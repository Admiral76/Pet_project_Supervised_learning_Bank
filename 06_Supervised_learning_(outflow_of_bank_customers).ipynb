{
 "cells": [
  {
   "cell_type": "markdown",
   "metadata": {
    "toc": true
   },
   "source": [
    "<h1>Содержание<span class=\"tocSkip\"></span></h1>\n",
    "<div class=\"toc\"><ul class=\"toc-item\"><li><span><a href=\"#Подготовка-данных\" data-toc-modified-id=\"Подготовка-данных-1\"><span class=\"toc-item-num\">1&nbsp;&nbsp;</span>Подготовка данных</a></span><ul class=\"toc-item\"><li><span><a href=\"#Импорт-необходимых-библиотек-и-подготовка-функций\" data-toc-modified-id=\"Импорт-необходимых-библиотек-и-подготовка-функций-1.1\"><span class=\"toc-item-num\">1.1&nbsp;&nbsp;</span>Импорт необходимых библиотек и подготовка функций</a></span></li><li><span><a href=\"#Изучение-общей-информации\" data-toc-modified-id=\"Изучение-общей-информации-1.2\"><span class=\"toc-item-num\">1.2&nbsp;&nbsp;</span>Изучение общей информации</a></span></li><li><span><a href=\"#Предобработка-данных\" data-toc-modified-id=\"Предобработка-данных-1.3\"><span class=\"toc-item-num\">1.3&nbsp;&nbsp;</span>Предобработка данных</a></span></li><li><span><a href=\"#Разделение-данных-на-обучающую,-валидационную-и-тестовую-выборки\" data-toc-modified-id=\"Разделение-данных-на-обучающую,-валидационную-и-тестовую-выборки-1.4\"><span class=\"toc-item-num\">1.4&nbsp;&nbsp;</span>Разделение данных на обучающую, валидационную и тестовую выборки</a></span></li><li><span><a href=\"#Масштабирование-признаков\" data-toc-modified-id=\"Масштабирование-признаков-1.5\"><span class=\"toc-item-num\">1.5&nbsp;&nbsp;</span>Масштабирование признаков</a></span></li></ul></li><li><span><a href=\"#Исследование-задачи\" data-toc-modified-id=\"Исследование-задачи-2\"><span class=\"toc-item-num\">2&nbsp;&nbsp;</span>Исследование задачи</a></span><ul class=\"toc-item\"><li><span><a href=\"#Исследование-баланса-классов\" data-toc-modified-id=\"Исследование-баланса-классов-2.1\"><span class=\"toc-item-num\">2.1&nbsp;&nbsp;</span>Исследование баланса классов</a></span></li><li><span><a href=\"#Обучение-моделей-без-учёта-дисбаланса\" data-toc-modified-id=\"Обучение-моделей-без-учёта-дисбаланса-2.2\"><span class=\"toc-item-num\">2.2&nbsp;&nbsp;</span>Обучение моделей без учёта дисбаланса</a></span><ul class=\"toc-item\"><li><span><a href=\"#Логическая-регрессия\" data-toc-modified-id=\"Логическая-регрессия-2.2.1\"><span class=\"toc-item-num\">2.2.1&nbsp;&nbsp;</span>Логическая регрессия</a></span></li><li><span><a href=\"#Дерево-решений\" data-toc-modified-id=\"Дерево-решений-2.2.2\"><span class=\"toc-item-num\">2.2.2&nbsp;&nbsp;</span>Дерево решений</a></span></li><li><span><a href=\"#Случайный-лес\" data-toc-modified-id=\"Случайный-лес-2.2.3\"><span class=\"toc-item-num\">2.2.3&nbsp;&nbsp;</span>Случайный лес</a></span></li></ul></li></ul></li><li><span><a href=\"#Борьба-с-дисбалансом\" data-toc-modified-id=\"Борьба-с-дисбалансом-3\"><span class=\"toc-item-num\">3&nbsp;&nbsp;</span>Борьба с дисбалансом</a></span><ul class=\"toc-item\"><li><span><a href=\"#Взвешивание-классов\" data-toc-modified-id=\"Взвешивание-классов-3.1\"><span class=\"toc-item-num\">3.1&nbsp;&nbsp;</span>Взвешивание классов</a></span></li><li><span><a href=\"#Увеличение-выборки\" data-toc-modified-id=\"Увеличение-выборки-3.2\"><span class=\"toc-item-num\">3.2&nbsp;&nbsp;</span>Увеличение выборки</a></span><ul class=\"toc-item\"><li><span><a href=\"#Подготовка\" data-toc-modified-id=\"Подготовка-3.2.1\"><span class=\"toc-item-num\">3.2.1&nbsp;&nbsp;</span>Подготовка</a></span></li><li><span><a href=\"#Обучение-моделей\" data-toc-modified-id=\"Обучение-моделей-3.2.2\"><span class=\"toc-item-num\">3.2.2&nbsp;&nbsp;</span>Обучение моделей</a></span></li></ul></li><li><span><a href=\"#Уменьшение-выборки\" data-toc-modified-id=\"Уменьшение-выборки-3.3\"><span class=\"toc-item-num\">3.3&nbsp;&nbsp;</span>Уменьшение выборки</a></span><ul class=\"toc-item\"><li><span><a href=\"#Подготовка\" data-toc-modified-id=\"Подготовка-3.3.1\"><span class=\"toc-item-num\">3.3.1&nbsp;&nbsp;</span>Подготовка</a></span></li><li><span><a href=\"#Обучение-моделей\" data-toc-modified-id=\"Обучение-моделей-3.3.2\"><span class=\"toc-item-num\">3.3.2&nbsp;&nbsp;</span>Обучение моделей</a></span></li></ul></li><li><span><a href=\"#Вывод\" data-toc-modified-id=\"Вывод-3.4\"><span class=\"toc-item-num\">3.4&nbsp;&nbsp;</span>Вывод</a></span></li></ul></li><li><span><a href=\"#Тестирование-модели\" data-toc-modified-id=\"Тестирование-модели-4\"><span class=\"toc-item-num\">4&nbsp;&nbsp;</span>Тестирование модели</a></span></li><li><span><a href=\"#Вывод\" data-toc-modified-id=\"Вывод-5\"><span class=\"toc-item-num\">5&nbsp;&nbsp;</span>Вывод</a></span></li><li><span><a href=\"#Чек-лист-готовности-проекта\" data-toc-modified-id=\"Чек-лист-готовности-проекта-6\"><span class=\"toc-item-num\">6&nbsp;&nbsp;</span>Чек-лист готовности проекта</a></span></li></ul></div>"
   ]
  },
  {
   "cell_type": "markdown",
   "metadata": {},
   "source": [
    "# Отток клиентов"
   ]
  },
  {
   "cell_type": "markdown",
   "metadata": {},
   "source": [
    "Из «Бета-Банка» стали уходить клиенты. Каждый месяц. Немного, но заметно. Банковские маркетологи посчитали: сохранять текущих клиентов дешевле, чем привлекать новых.\n",
    "\n",
    "Нужно спрогнозировать, уйдёт клиент из банка в ближайшее время или нет. Нам предоставлены исторические данные о поведении клиентов и расторжении договоров с банком. \n",
    "\n",
    "Необходимо построить модель с предельно большим значением *F1*-меры, но не менее 0.59. Также необходимо дополнительно измерять *AUC-ROC* и сравнивать её значение с *F1*-мерой.\n",
    "\n",
    "Источник данных: [https://www.kaggle.com/barelydedicated/bank-customer-churn-modeling](https://www.kaggle.com/barelydedicated/bank-customer-churn-modeling)\n",
    "\n",
    "<b>План работы:</b>\n",
    "- Загрузка и подготовка данных.\n",
    "- Исследование баланса классов, обучение моделей без учёта дисбаланса.\n",
    "- Улучшение качества моделей, учитывая дисбаланс классов. Обучение разных модели и поиск лучшей.\n",
    "- Финальное тестирование\n",
    "- Вывод\n",
    "\n",
    "<b>Описание данных</b>\n",
    "\n",
    "Признаки:\n",
    "- RowNumber — индекс строки в данных\n",
    "- CustomerId — уникальный идентификатор клиента\n",
    "- Surname — фамилия\n",
    "- CreditScore — кредитный рейтинг\n",
    "- Geography — страна проживания\n",
    "- Gender — пол\n",
    "- Age — возраст\n",
    "- Tenure — сколько лет человек является клиентом банка\n",
    "- Balance — баланс на счёте\n",
    "- NumOfProducts — количество продуктов банка, используемых клиентом\n",
    "- HasCrCard — наличие кредитной карты\n",
    "- IsActiveMember — активность клиента\n",
    "- EstimatedSalary — предполагаемая зарплата\n",
    "\n",
    "Целевой признак:\n",
    "- Exited — факт ухода клиента"
   ]
  },
  {
   "cell_type": "markdown",
   "metadata": {},
   "source": [
    "## Подготовка данных"
   ]
  },
  {
   "cell_type": "markdown",
   "metadata": {},
   "source": [
    "### Импорт необходимых библиотек и подготовка функций"
   ]
  },
  {
   "cell_type": "code",
   "execution_count": 1,
   "metadata": {},
   "outputs": [],
   "source": [
    "import pandas as pd\n",
    "\n",
    "import matplotlib.pyplot as plt\n",
    "import seaborn as sns\n",
    "import plotly.express as px\n",
    "\n",
    "from sklearn.model_selection import train_test_split\n",
    "from sklearn.preprocessing import StandardScaler\n",
    "from sklearn.tree import DecisionTreeClassifier\n",
    "from sklearn.ensemble import RandomForestClassifier\n",
    "from sklearn.linear_model import LogisticRegression\n",
    "from sklearn.metrics import f1_score, roc_auc_score, roc_curve\n",
    "from sklearn.utils import shuffle\n",
    "\n",
    "import timeit\n",
    "\n",
    "pd.set_option('display.max_colwidth', None)\n",
    "pd.options.mode.chained_assignment = None\n",
    "ra_st = 271828      # random_state\n",
    "\n",
    "viewing_jpg = True\n",
    "if viewing_jpg:\n",
    "    import plotly.io as pio\n",
    "    jpg_renderer = pio.renderers['jpg']\n",
    "    pio.renderers.default='jpg'\n",
    "    jpg_renderer.width = 950\n",
    "    jpg_renderer.height = 550"
   ]
  },
  {
   "cell_type": "code",
   "execution_count": 2,
   "metadata": {},
   "outputs": [],
   "source": [
    "# Обучение модели на основе алгоритма классификации \"Логическая регрессия\" +\n",
    "# сохранение в таблицу необходимых показателей  и оптимальных параметров +\n",
    "# вывод ROC-кривой\n",
    "def log_reg(algorithm, blnc, blnc_name, x_t, y_t):\n",
    "    log_reg_model = LogisticRegression(random_state=ra_st, solver='liblinear', class_weight=blnc)\n",
    "    log_reg_model.fit(x_t, y_t)\n",
    "    log_reg_start = timeit.default_timer()\n",
    "    log_reg_predict = log_reg_model.predict(x_valid)\n",
    "    log_reg_time = timeit.default_timer() - log_reg_start\n",
    "    log_reg_probabilities_valid = log_reg_model.predict_proba(x_valid)\n",
    "\n",
    "    temp = [algorithm, \\\n",
    "            round(f1_score(y_valid, log_reg_predict), 3),\\\n",
    "            round(roc_auc_score(y_valid, log_reg_probabilities_valid[:, 1]), 3),\\\n",
    "            blnc_name, None, None, None,\\\n",
    "            round(log_reg_time, 4)]\n",
    "    temp = pd.DataFrame(data=[temp], columns=['Модель','F1_valid', 'AUC_ROC_valid', 'Баланс',\\\n",
    "                                              'F1_test', 'AUC_ROC_test', 'Оптимальные параметры',\\\n",
    "                                              'Скорость, cек.'])\n",
    "    curve_roc(log_reg_probabilities_valid, algorithm)\n",
    "    return temp\n",
    "\n",
    "\n",
    "\n",
    "# Обучение модели на основе алгоритма классификации \"Дерево решений\" +\n",
    "# сохранение в таблицу необходимых показателей +\n",
    "# вывод ROC-кривой\n",
    "def tree(algorithm, blnc, blnc_name, x_t, y_t):\n",
    "    optimal_tree_parameters = {'max_depth': 0, 'min_samples_leaf': 0, 'max_features': 0}\n",
    "    best_tree_f1 = 0\n",
    "    for depth in range(3, 9, 2):\n",
    "        for msl in range(4, 11, 2):\n",
    "            for mf in range(3, 11, 1):\n",
    "                    tree_model = DecisionTreeClassifier(random_state=ra_st, class_weight=blnc,\\\n",
    "                                                   max_depth=depth,min_samples_leaf=msl,\\\n",
    "                                                   max_features=mf)\n",
    "                    tree_model.fit(x_t, y_t)\n",
    "                    tree_start = timeit.default_timer()\n",
    "                    tree_f1 = f1_score(y_valid, tree_model.predict(x_valid))\n",
    "                    tree_end = timeit.default_timer() - tree_start\n",
    "                    tree_probabilities_valid = tree_model.predict_proba(x_valid)\n",
    "                    tree_roc_auc = roc_auc_score(y_valid, tree_probabilities_valid[:, 1])\n",
    "                    if tree_f1 > best_tree_f1:\n",
    "                        best_tree_f1, best_tree_roc_auc = tree_f1, tree_roc_auc\n",
    "                        optimal_tree_parameters['max_depth'] = depth\n",
    "                        optimal_tree_parameters['min_samples_leaf'] = msl\n",
    "                        optimal_tree_parameters['max_features'] = mf\n",
    "                        best_tree_probabilities_valid = tree_probabilities_valid\n",
    "                        tree_time = tree_end\n",
    "    \n",
    "    temp = [algorithm, round(best_tree_f1, 3), round(best_tree_roc_auc, 3),\\\n",
    "            blnc_name, None, None, optimal_tree_parameters, round(tree_time, 4)]\n",
    "    temp = pd.DataFrame(data=[temp], columns=['Модель','F1_valid', 'AUC_ROC_valid', 'Баланс',\\\n",
    "                                              'F1_test', 'AUC_ROC_test', 'Оптимальные параметры',\\\n",
    "                                              'Скорость, cек.'])\n",
    "    curve_roc(best_tree_probabilities_valid, algorithm)\n",
    "    return temp\n",
    "\n",
    "\n",
    "\n",
    "# Обучение модели на основе алгоритма классификации \"Случайный лес\" +\n",
    "# сохранение в таблицу необходимых показателей и оптимальных параметров +\n",
    "# вывод ROC-кривой\n",
    "def forest(algorithm, blnc, blnc_name, x_t, y_t):\n",
    "    optimal_forest_parameters = {'max_depth': 0, 'n_estimators': 0,}\n",
    "    best_forest_f1 = 0\n",
    "    for depth in range(5, 9, 1):\n",
    "        for nest in range(40, 91, 10):\n",
    "            forest_model = RandomForestClassifier(random_state=ra_st, class_weight=blnc,\\\n",
    "                                                  max_depth=depth, n_estimators=nest)\n",
    "            forest_model.fit(x_t, y_t)\n",
    "            forest_start = timeit.default_timer()\n",
    "            forest_f1 = f1_score(y_valid, forest_model.predict(x_valid))\n",
    "            forest_end = timeit.default_timer() - forest_start\n",
    "            forest_probabilities_valid = forest_model.predict_proba(x_valid)\n",
    "            forest_roc_auc = roc_auc_score(y_valid, forest_probabilities_valid[:, 1])\n",
    "            if forest_f1 > best_forest_f1:\n",
    "                best_forest_f1, best_forest_roc_auc = forest_f1, forest_roc_auc\n",
    "                optimal_forest_parameters['max_depth'] = depth\n",
    "                optimal_forest_parameters['n_estimators'] = nest\n",
    "                best_forest_probabilities_valid = forest_probabilities_valid\n",
    "                forest_time = forest_end\n",
    "                        \n",
    "    temp = [algorithm, round(best_forest_f1, 3), round(best_forest_roc_auc, 3),\\\n",
    "            blnc_name, None, None, optimal_forest_parameters, round(forest_time, 4)]\n",
    "    temp = pd.DataFrame(data=[temp], columns=['Модель','F1_valid', 'AUC_ROC_valid', 'Баланс',\\\n",
    "                                              'F1_test', 'AUC_ROC_test', 'Оптимальные параметры',\\\n",
    "                                              'Скорость, cек.'])\n",
    "    curve_roc(best_forest_probabilities_valid, algorithm)\n",
    "    return temp\n",
    "\n",
    "\n",
    "\n",
    "# Функция для построения ROC-кривой\n",
    "def curve_roc(probabil_valid, algorithm):\n",
    "    fpr, tpr, thresholds = roc_curve(y_valid, probabil_valid[:, 1])\n",
    "    plt.figure()\n",
    "    plt.plot([0, 1], [0, 1], linestyle='--')\n",
    "    plt.plot(fpr, tpr)\n",
    "    plt.xlim([0.0, 1.01])\n",
    "    plt.ylim([0.0, 1.01])\n",
    "    plt.xlabel('False Positive Rate')\n",
    "    plt.ylabel('True Positive Rate')\n",
    "    plt.title('ROC-кривая для модели - ' + algorithm)\n",
    "    plt.show()\n",
    "    \n",
    "    \n",
    "    \n",
    "# Пропорции целевого признака\n",
    "def my_ratio(x_pie, label_pie):\n",
    "    plt.pie(x_pie, labels=label_pie, labeldistance=0.92, \\\n",
    "            pctdistance=0.18, autopct='%1.1f%%', radius=2.1,\\\n",
    "            wedgeprops = { 'linewidth' : 1.5, 'edgecolor' : 'white' })\n",
    "    plt.title('Пропорции целевого признака', pad=90)\n",
    "    plt.show()\n",
    "    \n",
    "    \n",
    "    \n",
    "# Тестирование моделей с оптимальными гиперпараметрами\n",
    "def my_test(test_model, x_tar, y_tar, line):\n",
    "    my_model = test_model\n",
    "    my_model.fit(x_tar, y_tar)\n",
    "    my_predict = my_model.predict(x_test)\n",
    "    my_probabilities_test = my_model.predict_proba(x_test)\n",
    "    my_df.loc[line, 'F1_test'] = round(f1_score(y_test, my_predict), 3)\n",
    "    my_df.loc[line, 'AUC_ROC_test'] = round(roc_auc_score(y_test, my_probabilities_test[:, 1]), 3)"
   ]
  },
  {
   "cell_type": "markdown",
   "metadata": {},
   "source": [
    "### Изучение общей информации"
   ]
  },
  {
   "cell_type": "markdown",
   "metadata": {},
   "source": [
    "Сохраним таблицу в переменную df и изучим первые и последнии 5 строк"
   ]
  },
  {
   "cell_type": "code",
   "execution_count": 3,
   "metadata": {},
   "outputs": [
    {
     "data": {
      "text/html": [
       "<div>\n",
       "<style scoped>\n",
       "    .dataframe tbody tr th:only-of-type {\n",
       "        vertical-align: middle;\n",
       "    }\n",
       "\n",
       "    .dataframe tbody tr th {\n",
       "        vertical-align: top;\n",
       "    }\n",
       "\n",
       "    .dataframe thead th {\n",
       "        text-align: right;\n",
       "    }\n",
       "</style>\n",
       "<table border=\"1\" class=\"dataframe\">\n",
       "  <thead>\n",
       "    <tr style=\"text-align: right;\">\n",
       "      <th></th>\n",
       "      <th>RowNumber</th>\n",
       "      <th>CustomerId</th>\n",
       "      <th>Surname</th>\n",
       "      <th>CreditScore</th>\n",
       "      <th>Geography</th>\n",
       "      <th>Gender</th>\n",
       "      <th>Age</th>\n",
       "      <th>Tenure</th>\n",
       "      <th>Balance</th>\n",
       "      <th>NumOfProducts</th>\n",
       "      <th>HasCrCard</th>\n",
       "      <th>IsActiveMember</th>\n",
       "      <th>EstimatedSalary</th>\n",
       "      <th>Exited</th>\n",
       "    </tr>\n",
       "  </thead>\n",
       "  <tbody>\n",
       "    <tr>\n",
       "      <th>0</th>\n",
       "      <td>1</td>\n",
       "      <td>15634602</td>\n",
       "      <td>Hargrave</td>\n",
       "      <td>619</td>\n",
       "      <td>France</td>\n",
       "      <td>Female</td>\n",
       "      <td>42</td>\n",
       "      <td>2.0</td>\n",
       "      <td>0.00</td>\n",
       "      <td>1</td>\n",
       "      <td>1</td>\n",
       "      <td>1</td>\n",
       "      <td>101348.88</td>\n",
       "      <td>1</td>\n",
       "    </tr>\n",
       "    <tr>\n",
       "      <th>1</th>\n",
       "      <td>2</td>\n",
       "      <td>15647311</td>\n",
       "      <td>Hill</td>\n",
       "      <td>608</td>\n",
       "      <td>Spain</td>\n",
       "      <td>Female</td>\n",
       "      <td>41</td>\n",
       "      <td>1.0</td>\n",
       "      <td>83807.86</td>\n",
       "      <td>1</td>\n",
       "      <td>0</td>\n",
       "      <td>1</td>\n",
       "      <td>112542.58</td>\n",
       "      <td>0</td>\n",
       "    </tr>\n",
       "    <tr>\n",
       "      <th>2</th>\n",
       "      <td>3</td>\n",
       "      <td>15619304</td>\n",
       "      <td>Onio</td>\n",
       "      <td>502</td>\n",
       "      <td>France</td>\n",
       "      <td>Female</td>\n",
       "      <td>42</td>\n",
       "      <td>8.0</td>\n",
       "      <td>159660.80</td>\n",
       "      <td>3</td>\n",
       "      <td>1</td>\n",
       "      <td>0</td>\n",
       "      <td>113931.57</td>\n",
       "      <td>1</td>\n",
       "    </tr>\n",
       "    <tr>\n",
       "      <th>3</th>\n",
       "      <td>4</td>\n",
       "      <td>15701354</td>\n",
       "      <td>Boni</td>\n",
       "      <td>699</td>\n",
       "      <td>France</td>\n",
       "      <td>Female</td>\n",
       "      <td>39</td>\n",
       "      <td>1.0</td>\n",
       "      <td>0.00</td>\n",
       "      <td>2</td>\n",
       "      <td>0</td>\n",
       "      <td>0</td>\n",
       "      <td>93826.63</td>\n",
       "      <td>0</td>\n",
       "    </tr>\n",
       "    <tr>\n",
       "      <th>4</th>\n",
       "      <td>5</td>\n",
       "      <td>15737888</td>\n",
       "      <td>Mitchell</td>\n",
       "      <td>850</td>\n",
       "      <td>Spain</td>\n",
       "      <td>Female</td>\n",
       "      <td>43</td>\n",
       "      <td>2.0</td>\n",
       "      <td>125510.82</td>\n",
       "      <td>1</td>\n",
       "      <td>1</td>\n",
       "      <td>1</td>\n",
       "      <td>79084.10</td>\n",
       "      <td>0</td>\n",
       "    </tr>\n",
       "  </tbody>\n",
       "</table>\n",
       "</div>"
      ],
      "text/plain": [
       "   RowNumber  CustomerId   Surname  CreditScore Geography  Gender  Age  \\\n",
       "0          1    15634602  Hargrave          619    France  Female   42   \n",
       "1          2    15647311      Hill          608     Spain  Female   41   \n",
       "2          3    15619304      Onio          502    France  Female   42   \n",
       "3          4    15701354      Boni          699    France  Female   39   \n",
       "4          5    15737888  Mitchell          850     Spain  Female   43   \n",
       "\n",
       "   Tenure    Balance  NumOfProducts  HasCrCard  IsActiveMember  \\\n",
       "0     2.0       0.00              1          1               1   \n",
       "1     1.0   83807.86              1          0               1   \n",
       "2     8.0  159660.80              3          1               0   \n",
       "3     1.0       0.00              2          0               0   \n",
       "4     2.0  125510.82              1          1               1   \n",
       "\n",
       "   EstimatedSalary  Exited  \n",
       "0        101348.88       1  \n",
       "1        112542.58       0  \n",
       "2        113931.57       1  \n",
       "3         93826.63       0  \n",
       "4         79084.10       0  "
      ]
     },
     "metadata": {},
     "output_type": "display_data"
    },
    {
     "data": {
      "text/html": [
       "<div>\n",
       "<style scoped>\n",
       "    .dataframe tbody tr th:only-of-type {\n",
       "        vertical-align: middle;\n",
       "    }\n",
       "\n",
       "    .dataframe tbody tr th {\n",
       "        vertical-align: top;\n",
       "    }\n",
       "\n",
       "    .dataframe thead th {\n",
       "        text-align: right;\n",
       "    }\n",
       "</style>\n",
       "<table border=\"1\" class=\"dataframe\">\n",
       "  <thead>\n",
       "    <tr style=\"text-align: right;\">\n",
       "      <th></th>\n",
       "      <th>RowNumber</th>\n",
       "      <th>CustomerId</th>\n",
       "      <th>Surname</th>\n",
       "      <th>CreditScore</th>\n",
       "      <th>Geography</th>\n",
       "      <th>Gender</th>\n",
       "      <th>Age</th>\n",
       "      <th>Tenure</th>\n",
       "      <th>Balance</th>\n",
       "      <th>NumOfProducts</th>\n",
       "      <th>HasCrCard</th>\n",
       "      <th>IsActiveMember</th>\n",
       "      <th>EstimatedSalary</th>\n",
       "      <th>Exited</th>\n",
       "    </tr>\n",
       "  </thead>\n",
       "  <tbody>\n",
       "    <tr>\n",
       "      <th>9995</th>\n",
       "      <td>9996</td>\n",
       "      <td>15606229</td>\n",
       "      <td>Obijiaku</td>\n",
       "      <td>771</td>\n",
       "      <td>France</td>\n",
       "      <td>Male</td>\n",
       "      <td>39</td>\n",
       "      <td>5.0</td>\n",
       "      <td>0.00</td>\n",
       "      <td>2</td>\n",
       "      <td>1</td>\n",
       "      <td>0</td>\n",
       "      <td>96270.64</td>\n",
       "      <td>0</td>\n",
       "    </tr>\n",
       "    <tr>\n",
       "      <th>9996</th>\n",
       "      <td>9997</td>\n",
       "      <td>15569892</td>\n",
       "      <td>Johnstone</td>\n",
       "      <td>516</td>\n",
       "      <td>France</td>\n",
       "      <td>Male</td>\n",
       "      <td>35</td>\n",
       "      <td>10.0</td>\n",
       "      <td>57369.61</td>\n",
       "      <td>1</td>\n",
       "      <td>1</td>\n",
       "      <td>1</td>\n",
       "      <td>101699.77</td>\n",
       "      <td>0</td>\n",
       "    </tr>\n",
       "    <tr>\n",
       "      <th>9997</th>\n",
       "      <td>9998</td>\n",
       "      <td>15584532</td>\n",
       "      <td>Liu</td>\n",
       "      <td>709</td>\n",
       "      <td>France</td>\n",
       "      <td>Female</td>\n",
       "      <td>36</td>\n",
       "      <td>7.0</td>\n",
       "      <td>0.00</td>\n",
       "      <td>1</td>\n",
       "      <td>0</td>\n",
       "      <td>1</td>\n",
       "      <td>42085.58</td>\n",
       "      <td>1</td>\n",
       "    </tr>\n",
       "    <tr>\n",
       "      <th>9998</th>\n",
       "      <td>9999</td>\n",
       "      <td>15682355</td>\n",
       "      <td>Sabbatini</td>\n",
       "      <td>772</td>\n",
       "      <td>Germany</td>\n",
       "      <td>Male</td>\n",
       "      <td>42</td>\n",
       "      <td>3.0</td>\n",
       "      <td>75075.31</td>\n",
       "      <td>2</td>\n",
       "      <td>1</td>\n",
       "      <td>0</td>\n",
       "      <td>92888.52</td>\n",
       "      <td>1</td>\n",
       "    </tr>\n",
       "    <tr>\n",
       "      <th>9999</th>\n",
       "      <td>10000</td>\n",
       "      <td>15628319</td>\n",
       "      <td>Walker</td>\n",
       "      <td>792</td>\n",
       "      <td>France</td>\n",
       "      <td>Female</td>\n",
       "      <td>28</td>\n",
       "      <td>NaN</td>\n",
       "      <td>130142.79</td>\n",
       "      <td>1</td>\n",
       "      <td>1</td>\n",
       "      <td>0</td>\n",
       "      <td>38190.78</td>\n",
       "      <td>0</td>\n",
       "    </tr>\n",
       "  </tbody>\n",
       "</table>\n",
       "</div>"
      ],
      "text/plain": [
       "      RowNumber  CustomerId    Surname  CreditScore Geography  Gender  Age  \\\n",
       "9995       9996    15606229   Obijiaku          771    France    Male   39   \n",
       "9996       9997    15569892  Johnstone          516    France    Male   35   \n",
       "9997       9998    15584532        Liu          709    France  Female   36   \n",
       "9998       9999    15682355  Sabbatini          772   Germany    Male   42   \n",
       "9999      10000    15628319     Walker          792    France  Female   28   \n",
       "\n",
       "      Tenure    Balance  NumOfProducts  HasCrCard  IsActiveMember  \\\n",
       "9995     5.0       0.00              2          1               0   \n",
       "9996    10.0   57369.61              1          1               1   \n",
       "9997     7.0       0.00              1          0               1   \n",
       "9998     3.0   75075.31              2          1               0   \n",
       "9999     NaN  130142.79              1          1               0   \n",
       "\n",
       "      EstimatedSalary  Exited  \n",
       "9995         96270.64       0  \n",
       "9996        101699.77       0  \n",
       "9997         42085.58       1  \n",
       "9998         92888.52       1  \n",
       "9999         38190.78       0  "
      ]
     },
     "metadata": {},
     "output_type": "display_data"
    }
   ],
   "source": [
    "try:\n",
    "    df = pd.read_csv('/datasets/Churn.csv')\n",
    "except:\n",
    "    df = pd.read_csv(r'C:\\Users\\Admiral\\Desktop\\учеба\\практикум\\Проекты\\Datasets\\06_Churn.csv')\n",
    "\n",
    "display(df.head())\n",
    "display(df.tail())"
   ]
  },
  {
   "cell_type": "markdown",
   "metadata": {},
   "source": [
    "В таблице присутствуют 3 ненужных для обучения и тестирования модели столбца: \"RowNumber\" - дублирует индексы; \"CustomerId\" и \"Surname\" - уникальные идентификаторы клиентов и их фамилии, для обучения модели бесполезны, будут только увеличивать время обучения. Необходимо избавиться от этих столбцов. Кроме того в столбце \"Tenure\" обнаружены пропущенные значения. Изучим общую информацию по таблице"
   ]
  },
  {
   "cell_type": "code",
   "execution_count": 4,
   "metadata": {},
   "outputs": [
    {
     "name": "stdout",
     "output_type": "stream",
     "text": [
      "<class 'pandas.core.frame.DataFrame'>\n",
      "RangeIndex: 10000 entries, 0 to 9999\n",
      "Data columns (total 14 columns):\n",
      " #   Column           Non-Null Count  Dtype  \n",
      "---  ------           --------------  -----  \n",
      " 0   RowNumber        10000 non-null  int64  \n",
      " 1   CustomerId       10000 non-null  int64  \n",
      " 2   Surname          10000 non-null  object \n",
      " 3   CreditScore      10000 non-null  int64  \n",
      " 4   Geography        10000 non-null  object \n",
      " 5   Gender           10000 non-null  object \n",
      " 6   Age              10000 non-null  int64  \n",
      " 7   Tenure           9091 non-null   float64\n",
      " 8   Balance          10000 non-null  float64\n",
      " 9   NumOfProducts    10000 non-null  int64  \n",
      " 10  HasCrCard        10000 non-null  int64  \n",
      " 11  IsActiveMember   10000 non-null  int64  \n",
      " 12  EstimatedSalary  10000 non-null  float64\n",
      " 13  Exited           10000 non-null  int64  \n",
      "dtypes: float64(3), int64(8), object(3)\n",
      "memory usage: 1.1+ MB\n"
     ]
    }
   ],
   "source": [
    "df.info()"
   ]
  },
  {
   "cell_type": "markdown",
   "metadata": {},
   "source": [
    "Только в одном столбце обнаружены пропуски, более 9 %. Данный столбец отвечает за сколько лет человек является клиентом банка. Возможно пропуски говорят о том, что клиент пользуется услугами банка менее одного года. Кроме того необходимо привести значения столбцов к необходимым типам данных. Так же, мы не знаем какая модель в итоге покажет себя наилучим образом, но у нас имеются два столбца с категориальными признаками, которые необходимо перевести в численные для обучения моделей на основе алгоритмов классификации (стоит именно задача классификации - уйдёт клиент из банка в ближайшее время или нет), поэтому преобразовать категориальные признаки в численные будем при помощи техники прямого кодирования, она подойдет для любой модели. Изучим основные статистические показатели по таблице"
   ]
  },
  {
   "cell_type": "code",
   "execution_count": 5,
   "metadata": {},
   "outputs": [
    {
     "data": {
      "text/html": [
       "<div>\n",
       "<style scoped>\n",
       "    .dataframe tbody tr th:only-of-type {\n",
       "        vertical-align: middle;\n",
       "    }\n",
       "\n",
       "    .dataframe tbody tr th {\n",
       "        vertical-align: top;\n",
       "    }\n",
       "\n",
       "    .dataframe thead th {\n",
       "        text-align: right;\n",
       "    }\n",
       "</style>\n",
       "<table border=\"1\" class=\"dataframe\">\n",
       "  <thead>\n",
       "    <tr style=\"text-align: right;\">\n",
       "      <th></th>\n",
       "      <th>RowNumber</th>\n",
       "      <th>CustomerId</th>\n",
       "      <th>CreditScore</th>\n",
       "      <th>Age</th>\n",
       "      <th>Tenure</th>\n",
       "      <th>Balance</th>\n",
       "      <th>NumOfProducts</th>\n",
       "      <th>HasCrCard</th>\n",
       "      <th>IsActiveMember</th>\n",
       "      <th>EstimatedSalary</th>\n",
       "      <th>Exited</th>\n",
       "    </tr>\n",
       "  </thead>\n",
       "  <tbody>\n",
       "    <tr>\n",
       "      <th>count</th>\n",
       "      <td>10000.00000</td>\n",
       "      <td>1.000000e+04</td>\n",
       "      <td>10000.000000</td>\n",
       "      <td>10000.000000</td>\n",
       "      <td>9091.000000</td>\n",
       "      <td>10000.000000</td>\n",
       "      <td>10000.000000</td>\n",
       "      <td>10000.00000</td>\n",
       "      <td>10000.000000</td>\n",
       "      <td>10000.000000</td>\n",
       "      <td>10000.000000</td>\n",
       "    </tr>\n",
       "    <tr>\n",
       "      <th>mean</th>\n",
       "      <td>5000.50000</td>\n",
       "      <td>1.569094e+07</td>\n",
       "      <td>650.528800</td>\n",
       "      <td>38.921800</td>\n",
       "      <td>4.997690</td>\n",
       "      <td>76485.889288</td>\n",
       "      <td>1.530200</td>\n",
       "      <td>0.70550</td>\n",
       "      <td>0.515100</td>\n",
       "      <td>100090.239881</td>\n",
       "      <td>0.203700</td>\n",
       "    </tr>\n",
       "    <tr>\n",
       "      <th>std</th>\n",
       "      <td>2886.89568</td>\n",
       "      <td>7.193619e+04</td>\n",
       "      <td>96.653299</td>\n",
       "      <td>10.487806</td>\n",
       "      <td>2.894723</td>\n",
       "      <td>62397.405202</td>\n",
       "      <td>0.581654</td>\n",
       "      <td>0.45584</td>\n",
       "      <td>0.499797</td>\n",
       "      <td>57510.492818</td>\n",
       "      <td>0.402769</td>\n",
       "    </tr>\n",
       "    <tr>\n",
       "      <th>min</th>\n",
       "      <td>1.00000</td>\n",
       "      <td>1.556570e+07</td>\n",
       "      <td>350.000000</td>\n",
       "      <td>18.000000</td>\n",
       "      <td>0.000000</td>\n",
       "      <td>0.000000</td>\n",
       "      <td>1.000000</td>\n",
       "      <td>0.00000</td>\n",
       "      <td>0.000000</td>\n",
       "      <td>11.580000</td>\n",
       "      <td>0.000000</td>\n",
       "    </tr>\n",
       "    <tr>\n",
       "      <th>25%</th>\n",
       "      <td>2500.75000</td>\n",
       "      <td>1.562853e+07</td>\n",
       "      <td>584.000000</td>\n",
       "      <td>32.000000</td>\n",
       "      <td>2.000000</td>\n",
       "      <td>0.000000</td>\n",
       "      <td>1.000000</td>\n",
       "      <td>0.00000</td>\n",
       "      <td>0.000000</td>\n",
       "      <td>51002.110000</td>\n",
       "      <td>0.000000</td>\n",
       "    </tr>\n",
       "    <tr>\n",
       "      <th>50%</th>\n",
       "      <td>5000.50000</td>\n",
       "      <td>1.569074e+07</td>\n",
       "      <td>652.000000</td>\n",
       "      <td>37.000000</td>\n",
       "      <td>5.000000</td>\n",
       "      <td>97198.540000</td>\n",
       "      <td>1.000000</td>\n",
       "      <td>1.00000</td>\n",
       "      <td>1.000000</td>\n",
       "      <td>100193.915000</td>\n",
       "      <td>0.000000</td>\n",
       "    </tr>\n",
       "    <tr>\n",
       "      <th>75%</th>\n",
       "      <td>7500.25000</td>\n",
       "      <td>1.575323e+07</td>\n",
       "      <td>718.000000</td>\n",
       "      <td>44.000000</td>\n",
       "      <td>7.000000</td>\n",
       "      <td>127644.240000</td>\n",
       "      <td>2.000000</td>\n",
       "      <td>1.00000</td>\n",
       "      <td>1.000000</td>\n",
       "      <td>149388.247500</td>\n",
       "      <td>0.000000</td>\n",
       "    </tr>\n",
       "    <tr>\n",
       "      <th>max</th>\n",
       "      <td>10000.00000</td>\n",
       "      <td>1.581569e+07</td>\n",
       "      <td>850.000000</td>\n",
       "      <td>92.000000</td>\n",
       "      <td>10.000000</td>\n",
       "      <td>250898.090000</td>\n",
       "      <td>4.000000</td>\n",
       "      <td>1.00000</td>\n",
       "      <td>1.000000</td>\n",
       "      <td>199992.480000</td>\n",
       "      <td>1.000000</td>\n",
       "    </tr>\n",
       "  </tbody>\n",
       "</table>\n",
       "</div>"
      ],
      "text/plain": [
       "         RowNumber    CustomerId   CreditScore           Age       Tenure  \\\n",
       "count  10000.00000  1.000000e+04  10000.000000  10000.000000  9091.000000   \n",
       "mean    5000.50000  1.569094e+07    650.528800     38.921800     4.997690   \n",
       "std     2886.89568  7.193619e+04     96.653299     10.487806     2.894723   \n",
       "min        1.00000  1.556570e+07    350.000000     18.000000     0.000000   \n",
       "25%     2500.75000  1.562853e+07    584.000000     32.000000     2.000000   \n",
       "50%     5000.50000  1.569074e+07    652.000000     37.000000     5.000000   \n",
       "75%     7500.25000  1.575323e+07    718.000000     44.000000     7.000000   \n",
       "max    10000.00000  1.581569e+07    850.000000     92.000000    10.000000   \n",
       "\n",
       "             Balance  NumOfProducts    HasCrCard  IsActiveMember  \\\n",
       "count   10000.000000   10000.000000  10000.00000    10000.000000   \n",
       "mean    76485.889288       1.530200      0.70550        0.515100   \n",
       "std     62397.405202       0.581654      0.45584        0.499797   \n",
       "min         0.000000       1.000000      0.00000        0.000000   \n",
       "25%         0.000000       1.000000      0.00000        0.000000   \n",
       "50%     97198.540000       1.000000      1.00000        1.000000   \n",
       "75%    127644.240000       2.000000      1.00000        1.000000   \n",
       "max    250898.090000       4.000000      1.00000        1.000000   \n",
       "\n",
       "       EstimatedSalary        Exited  \n",
       "count     10000.000000  10000.000000  \n",
       "mean     100090.239881      0.203700  \n",
       "std       57510.492818      0.402769  \n",
       "min          11.580000      0.000000  \n",
       "25%       51002.110000      0.000000  \n",
       "50%      100193.915000      0.000000  \n",
       "75%      149388.247500      0.000000  \n",
       "max      199992.480000      1.000000  "
      ]
     },
     "metadata": {},
     "output_type": "display_data"
    }
   ],
   "source": [
    "display(df.describe())"
   ]
  },
  {
   "cell_type": "markdown",
   "metadata": {},
   "source": [
    "Аномальные значения не обнаружены, но в столбце \"Balance\" более чем у 25% клиентов нулевой баланс на счете. Проверим корреляцию между признаками"
   ]
  },
  {
   "cell_type": "code",
   "execution_count": 6,
   "metadata": {},
   "outputs": [
    {
     "data": {
      "text/plain": [
       "<AxesSubplot:>"
      ]
     },
     "metadata": {},
     "output_type": "display_data"
    },
    {
     "data": {
      "image/png": "[encoded data removed]",
      "text/plain": [
       "<Figure size 1008x576 with 2 Axes>"
      ]
     },
     "metadata": {
      "needs_background": "light"
     },
     "output_type": "display_data"
    }
   ],
   "source": [
    "plt.figure(figsize=(14, 8))\n",
    "display(sns.heatmap(df.corr(), annot=True, linewidths=.5))\n",
    "plt.title('Тепловая матрица корреляции')\n",
    "plt.show()"
   ]
  },
  {
   "cell_type": "markdown",
   "metadata": {},
   "source": [
    "Сильной зависимости между признаками нет, оставляем все признаки для обучения моделей. Проверим количество дубликатов"
   ]
  },
  {
   "cell_type": "code",
   "execution_count": 7,
   "metadata": {},
   "outputs": [
    {
     "data": {
      "text/plain": [
       "0"
      ]
     },
     "metadata": {},
     "output_type": "display_data"
    }
   ],
   "source": [
    "display(df.duplicated().sum())"
   ]
  },
  {
   "cell_type": "markdown",
   "metadata": {},
   "source": [
    "### Предобработка данных"
   ]
  },
  {
   "cell_type": "markdown",
   "metadata": {},
   "source": [
    "Избавимся от ненужных столбцов"
   ]
  },
  {
   "cell_type": "code",
   "execution_count": 8,
   "metadata": {},
   "outputs": [],
   "source": [
    "df = df.drop(['RowNumber', 'CustomerId', 'Surname'], axis=1)"
   ]
  },
  {
   "cell_type": "markdown",
   "metadata": {},
   "source": [
    "Заменим пропуски в столбце \"Tenure\". Для того, чтобы понять, как лучше заменить пропуски, проверим F1-меру на валидационной выборке в 3 различных вариациях обработки столбца на основе алгоритма классификации Логическая регрессия: замена пропусков на 0, замена пропусков на медиану и полное удаление признака. Для начала сохраним в отдельную переменные три варианта данных"
   ]
  },
  {
   "cell_type": "code",
   "execution_count": 9,
   "metadata": {},
   "outputs": [],
   "source": [
    "t_zero = df.copy()\n",
    "t_zero.Tenure = t_zero.Tenure.fillna(0)\n",
    "t_median = df.copy()\n",
    "t_median.Tenure = t_median.Tenure.fillna(t_median.Tenure.median())\n",
    "t_drop = df.copy()\n",
    "t_drop = t_drop.drop('Tenure', axis=1)"
   ]
  },
  {
   "cell_type": "markdown",
   "metadata": {},
   "source": [
    "Преобразуем категориальные признаки в численные при помощи техники прямого кодирования с использованием функции get_dummies. Аргументу drop_first передадим значение True"
   ]
  },
  {
   "cell_type": "code",
   "execution_count": 10,
   "metadata": {},
   "outputs": [],
   "source": [
    "t_zero = pd.get_dummies(t_zero, drop_first=True)\n",
    "t_median = pd.get_dummies(t_median, drop_first=True)\n",
    "t_drop = pd.get_dummies(t_drop, drop_first=True)"
   ]
  },
  {
   "cell_type": "markdown",
   "metadata": {},
   "source": [
    "Разделим выборки на обучающие и валидационные"
   ]
  },
  {
   "cell_type": "code",
   "execution_count": 11,
   "metadata": {},
   "outputs": [],
   "source": [
    "X_t_zero = t_zero.drop('Exited', axis=1)\n",
    "Y_t_zero = t_zero.Exited\n",
    "z_x_train, z_x_valid, z_y_train, z_y_valid = train_test_split(X_t_zero, Y_t_zero, \\\n",
    "                                                              test_size=.25, \\\n",
    "                                                              random_state=ra_st, \\\n",
    "                                                              stratify=Y_t_zero)\n",
    "\n",
    "X_t_median = t_median.drop('Exited', axis=1)\n",
    "Y_t_median = t_median.Exited\n",
    "m_x_train, m_x_valid, m_y_train, m_y_valid = train_test_split(X_t_median, \\\n",
    "                                                              Y_t_median, \\\n",
    "                                                              test_size=.25, \\\n",
    "                                                              random_state=ra_st,\\\n",
    "                                                              stratify=Y_t_median)\n",
    "\n",
    "X_t_drop = t_drop.drop('Exited', axis=1)\n",
    "Y_t_drop = t_drop.Exited\n",
    "d_x_train, d_x_valid, d_y_train, d_y_valid = train_test_split(X_t_drop, Y_t_drop, \\\n",
    "                                                              test_size=.25, \\\n",
    "                                                              random_state=ra_st, \\\n",
    "                                                              stratify=Y_t_drop)"
   ]
  },
  {
   "cell_type": "markdown",
   "metadata": {},
   "source": [
    "Сделаем масштабирование признаков при помощи структуры StandardScaler. Преобразуем обучающую и тестовую выборки функцией transform()"
   ]
  },
  {
   "cell_type": "code",
   "execution_count": 12,
   "metadata": {},
   "outputs": [],
   "source": [
    "numeric = ['CreditScore', 'Age', 'Tenure', 'Balance', 'NumOfProducts', 'EstimatedSalary']\n",
    "numeric_drop = ['CreditScore', 'Age', 'Balance', 'NumOfProducts', 'EstimatedSalary']\n",
    "\n",
    "scaler_z = StandardScaler()\n",
    "scaler_m = StandardScaler()\n",
    "scaler_d = StandardScaler()\n",
    "\n",
    "scaler_z.fit(z_x_train[numeric])\n",
    "scaler_m.fit(m_x_train[numeric])\n",
    "scaler_d.fit(d_x_train[numeric_drop])\n",
    "\n",
    "z_x_train[numeric] = scaler_z.transform(z_x_train[numeric])\n",
    "z_x_valid[numeric] = scaler_z.transform(z_x_valid[numeric])\n",
    "\n",
    "m_x_train[numeric] = scaler_m.transform(m_x_train[numeric])\n",
    "m_x_valid[numeric] = scaler_m.transform(m_x_valid[numeric])\n",
    "\n",
    "d_x_train[numeric_drop] = scaler_d.transform(d_x_train[numeric_drop])\n",
    "d_x_valid[numeric_drop] = scaler_d.transform(d_x_valid[numeric_drop])"
   ]
  },
  {
   "cell_type": "markdown",
   "metadata": {},
   "source": [
    "Обучим три модели и проверим как меняется F1-мера. Используем алгоритм Логическая регрессия, гиперпараметру class_weight передадим значение balanced "
   ]
  },
  {
   "cell_type": "code",
   "execution_count": 13,
   "metadata": {},
   "outputs": [
    {
     "name": "stdout",
     "output_type": "stream",
     "text": [
      "F1-мера с заполнением пропусков нулями: 0.500\n",
      "F1-мера с заполнением пропусков медианой: 0.502\n",
      "F1-мера с удалением признака: 0.511\n"
     ]
    }
   ],
   "source": [
    "z_model = LogisticRegression(random_state=ra_st, class_weight='balanced', solver='liblinear')\n",
    "z_model.fit(z_x_train, z_y_train)\n",
    "print('F1-мера с заполнением пропусков нулями: {:.3f}'.\\\n",
    "      format(f1_score(z_y_valid, z_model.predict(z_x_valid))))\n",
    "\n",
    "m_model = LogisticRegression(random_state=ra_st, class_weight='balanced', solver='liblinear')\n",
    "m_model.fit(m_x_train, m_y_train)\n",
    "print('F1-мера с заполнением пропусков медианой: {:.3f}'.\\\n",
    "      format(f1_score(m_y_valid, m_model.predict(m_x_valid))))\n",
    "\n",
    "d_model = LogisticRegression(random_state=ra_st, class_weight='balanced', solver='liblinear')\n",
    "d_model.fit(d_x_train, d_y_train)\n",
    "print('F1-мера с удалением признака: {:.3f}'.\\\n",
    "      format(f1_score(d_y_valid, d_model.predict(d_x_valid))))"
   ]
  },
  {
   "cell_type": "markdown",
   "metadata": {},
   "source": [
    "Лучший показатель F1-меры оказался у модели, обученой без использования признака имеющего пропуски. Удалим этот признак из основной таблицы"
   ]
  },
  {
   "cell_type": "code",
   "execution_count": 14,
   "metadata": {},
   "outputs": [],
   "source": [
    "df = df.drop('Tenure', axis=1)"
   ]
  },
  {
   "cell_type": "markdown",
   "metadata": {},
   "source": [
    "Преобразуем категориальные признаки в численные при помощи техники прямого кодирования с использованием функции get_dummies. Аргументу drop_first передадим значение True"
   ]
  },
  {
   "cell_type": "code",
   "execution_count": 15,
   "metadata": {},
   "outputs": [],
   "source": [
    "df = pd.get_dummies(df, drop_first=True)"
   ]
  },
  {
   "cell_type": "markdown",
   "metadata": {},
   "source": [
    "Заменим тип данных в столбцах \"HasCrCard\" и \"IsActiveMember\" на uint8"
   ]
  },
  {
   "cell_type": "code",
   "execution_count": 16,
   "metadata": {},
   "outputs": [],
   "source": [
    "df[['HasCrCard', 'IsActiveMember']] = df[['HasCrCard', 'IsActiveMember']].astype('uint8')"
   ]
  },
  {
   "cell_type": "markdown",
   "metadata": {},
   "source": [
    "### Разделение данных на обучающую, валидационную и тестовую выборки"
   ]
  },
  {
   "cell_type": "markdown",
   "metadata": {},
   "source": [
    "Для начала разделим данные на признаки и целевой признак"
   ]
  },
  {
   "cell_type": "code",
   "execution_count": 17,
   "metadata": {},
   "outputs": [],
   "source": [
    "X = df.drop('Exited', axis=1)\n",
    "Y = df.Exited"
   ]
  },
  {
   "cell_type": "markdown",
   "metadata": {},
   "source": [
    "Проверим баланс целевого признака"
   ]
  },
  {
   "cell_type": "code",
   "execution_count": 18,
   "metadata": {},
   "outputs": [
    {
     "name": "stdout",
     "output_type": "stream",
     "text": [
      "Доля клиентов, покинувших банк: 20.4%\n"
     ]
    }
   ],
   "source": [
    "print('Доля клиентов, покинувших банк: {:.1%}'.format(sum(Y) / len(Y)))"
   ]
  },
  {
   "cell_type": "markdown",
   "metadata": {},
   "source": [
    "Разделим данные на обучающую, валидационную и тестовую выборки в соотношении 3:1:1. В связи с дисбалансом целевого признака, параметру \"stratify\" передадим переменную с целевым признаком для сохранения пропорций"
   ]
  },
  {
   "cell_type": "code",
   "execution_count": 19,
   "metadata": {},
   "outputs": [],
   "source": [
    "x_train, x_valid, y_train, y_valid = train_test_split(X, Y, test_size=.40,\\\n",
    "                                     random_state=ra_st, stratify=Y)\n",
    "x_valid, x_test, y_valid, y_test = train_test_split(x_valid, y_valid, test_size=.50,\\\n",
    "                                     random_state=ra_st, stratify=y_valid)"
   ]
  },
  {
   "cell_type": "markdown",
   "metadata": {},
   "source": [
    "### Масштабирование признаков"
   ]
  },
  {
   "cell_type": "markdown",
   "metadata": {},
   "source": [
    "Признаки в нашей выборке имеют разный масштаб. Используем структуру StandardScaler  для стандартизации данных. Для начала создадим объект этой структуры и настроим его на обучающих данных"
   ]
  },
  {
   "cell_type": "code",
   "execution_count": 20,
   "metadata": {},
   "outputs": [],
   "source": [
    "scaler = StandardScaler()\n",
    "scaler.fit(x_train[numeric_drop])\n",
    "pass"
   ]
  },
  {
   "cell_type": "markdown",
   "metadata": {},
   "source": [
    "Преобразуем обучающую и тестовую выборки функцией transform()"
   ]
  },
  {
   "cell_type": "code",
   "execution_count": 21,
   "metadata": {},
   "outputs": [],
   "source": [
    "x_train[numeric_drop] = scaler.transform(x_train[numeric_drop])\n",
    "x_valid[numeric_drop] = scaler.transform(x_valid[numeric_drop])\n",
    "x_test[numeric_drop] = scaler.transform(x_test[numeric_drop])"
   ]
  },
  {
   "cell_type": "markdown",
   "metadata": {},
   "source": [
    "## Исследование задачи"
   ]
  },
  {
   "cell_type": "markdown",
   "metadata": {},
   "source": [
    "### Исследование баланса классов"
   ]
  },
  {
   "cell_type": "markdown",
   "metadata": {},
   "source": [
    "Изучим баланс классов целевого признака"
   ]
  },
  {
   "cell_type": "code",
   "execution_count": 22,
   "metadata": {},
   "outputs": [
    {
     "data": {
      "image/png": "[encoded data removed]",
      "text/plain": [
       "<Figure size 432x288 with 1 Axes>"
      ]
     },
     "metadata": {},
     "output_type": "display_data"
    }
   ],
   "source": [
    "my_ratio(df.groupby('Exited')['Age'].count().reset_index().Age,\\\n",
    "         df.groupby('Exited')['Age'].count().reset_index().Exited)"
   ]
  },
  {
   "cell_type": "markdown",
   "metadata": {},
   "source": [
    "Наблюдаем сильный дисбаланс 80% клиентов в выборке не ушли из банка, но 20% все же его покинули."
   ]
  },
  {
   "cell_type": "markdown",
   "metadata": {},
   "source": [
    "### Обучение моделей без учёта дисбаланса"
   ]
  },
  {
   "cell_type": "markdown",
   "metadata": {},
   "source": [
    "Сохраним в переменную пустую таблицу, в которую в дальнейшем будем сохранять результаты проверок моделей на валидационной выборке и оптимальные параметры"
   ]
  },
  {
   "cell_type": "code",
   "execution_count": 23,
   "metadata": {},
   "outputs": [],
   "source": [
    "my_df = pd.DataFrame(columns=['Модель','F1_valid', 'AUC_ROC_valid', 'Баланс',\\\n",
    "                              'F1_test', 'AUC_ROC_test', 'Оптимальные параметры',\\\n",
    "                              'Скорость, cек.'])"
   ]
  },
  {
   "cell_type": "markdown",
   "metadata": {},
   "source": [
    "#### Логическая регрессия"
   ]
  },
  {
   "cell_type": "markdown",
   "metadata": {},
   "source": [
    "Запустим обучение модели на основе алгоритма классификации \"Логическая регрессия\", проверим ее работу на валидационной выборке и выведем результаты проверки"
   ]
  },
  {
   "cell_type": "code",
   "execution_count": 24,
   "metadata": {},
   "outputs": [
    {
     "data": {
      "image/png": "[encoded data removed]",
      "text/plain": [
       "<Figure size 432x288 with 1 Axes>"
      ]
     },
     "metadata": {
      "needs_background": "light"
     },
     "output_type": "display_data"
    },
    {
     "data": {
      "text/html": [
       "<div>\n",
       "<style scoped>\n",
       "    .dataframe tbody tr th:only-of-type {\n",
       "        vertical-align: middle;\n",
       "    }\n",
       "\n",
       "    .dataframe tbody tr th {\n",
       "        vertical-align: top;\n",
       "    }\n",
       "\n",
       "    .dataframe thead th {\n",
       "        text-align: right;\n",
       "    }\n",
       "</style>\n",
       "<table border=\"1\" class=\"dataframe\">\n",
       "  <thead>\n",
       "    <tr style=\"text-align: right;\">\n",
       "      <th></th>\n",
       "      <th>Модель</th>\n",
       "      <th>F1_valid</th>\n",
       "      <th>AUC_ROC_valid</th>\n",
       "      <th>Баланс</th>\n",
       "      <th>F1_test</th>\n",
       "      <th>AUC_ROC_test</th>\n",
       "      <th>Оптимальные параметры</th>\n",
       "      <th>Скорость, cек.</th>\n",
       "    </tr>\n",
       "  </thead>\n",
       "  <tbody>\n",
       "    <tr>\n",
       "      <th>0</th>\n",
       "      <td>Логическая регрессия</td>\n",
       "      <td>0.327</td>\n",
       "      <td>0.769</td>\n",
       "      <td>-</td>\n",
       "      <td>None</td>\n",
       "      <td>None</td>\n",
       "      <td>None</td>\n",
       "      <td>0.0018</td>\n",
       "    </tr>\n",
       "  </tbody>\n",
       "</table>\n",
       "</div>"
      ],
      "text/plain": [
       "                 Модель  F1_valid  AUC_ROC_valid Баланс F1_test AUC_ROC_test  \\\n",
       "0  Логическая регрессия     0.327          0.769      -    None         None   \n",
       "\n",
       "  Оптимальные параметры  Скорость, cек.  \n",
       "0                  None          0.0018  "
      ]
     },
     "metadata": {},
     "output_type": "display_data"
    }
   ],
   "source": [
    "my_df = my_df.append(log_reg('Логическая регрессия', None, '-', x_train, y_train), ignore_index=True)\n",
    "display(my_df)"
   ]
  },
  {
   "cell_type": "markdown",
   "metadata": {},
   "source": [
    "Видим очень низкое значение F1-меры. Это говорит о том что или значение показателя полноты или значение показателя точности имеют низко качество, или оба этих показателя имеют невысокое значение, что приводит к низкому средне-гармоническому полноты и точности. Также стоит отметить невысокий показатель метрики AUC-ROC. Площадь под кривой гораздо больше чем у случайной модели, но далека от идеала."
   ]
  },
  {
   "cell_type": "markdown",
   "metadata": {},
   "source": [
    "#### Дерево решений"
   ]
  },
  {
   "cell_type": "markdown",
   "metadata": {},
   "source": [
    "Запустим обучение модели на основе алгоритма классификации \"Дерево решений\" с различными гиперпараметрами, проверим ее работу на валидационной выборке и выведем результаты проверки лучшей модели"
   ]
  },
  {
   "cell_type": "code",
   "execution_count": 25,
   "metadata": {},
   "outputs": [
    {
     "data": {
      "image/png": "[encoded data removed]",
      "text/plain": [
       "<Figure size 432x288 with 1 Axes>"
      ]
     },
     "metadata": {
      "needs_background": "light"
     },
     "output_type": "display_data"
    },
    {
     "data": {
      "text/html": [
       "<div>\n",
       "<style scoped>\n",
       "    .dataframe tbody tr th:only-of-type {\n",
       "        vertical-align: middle;\n",
       "    }\n",
       "\n",
       "    .dataframe tbody tr th {\n",
       "        vertical-align: top;\n",
       "    }\n",
       "\n",
       "    .dataframe thead th {\n",
       "        text-align: right;\n",
       "    }\n",
       "</style>\n",
       "<table border=\"1\" class=\"dataframe\">\n",
       "  <thead>\n",
       "    <tr style=\"text-align: right;\">\n",
       "      <th></th>\n",
       "      <th>Модель</th>\n",
       "      <th>F1_valid</th>\n",
       "      <th>AUC_ROC_valid</th>\n",
       "      <th>Баланс</th>\n",
       "      <th>F1_test</th>\n",
       "      <th>AUC_ROC_test</th>\n",
       "      <th>Оптимальные параметры</th>\n",
       "      <th>Скорость, cек.</th>\n",
       "    </tr>\n",
       "  </thead>\n",
       "  <tbody>\n",
       "    <tr>\n",
       "      <th>0</th>\n",
       "      <td>Логическая регрессия</td>\n",
       "      <td>0.327</td>\n",
       "      <td>0.769</td>\n",
       "      <td>-</td>\n",
       "      <td>None</td>\n",
       "      <td>None</td>\n",
       "      <td>None</td>\n",
       "      <td>0.0018</td>\n",
       "    </tr>\n",
       "    <tr>\n",
       "      <th>1</th>\n",
       "      <td>Дерево решений</td>\n",
       "      <td>0.578</td>\n",
       "      <td>0.842</td>\n",
       "      <td>-</td>\n",
       "      <td>None</td>\n",
       "      <td>None</td>\n",
       "      <td>{'max_depth': 5, 'min_samples_leaf': 8, 'max_features': 7}</td>\n",
       "      <td>0.0029</td>\n",
       "    </tr>\n",
       "  </tbody>\n",
       "</table>\n",
       "</div>"
      ],
      "text/plain": [
       "                 Модель  F1_valid  AUC_ROC_valid Баланс F1_test AUC_ROC_test  \\\n",
       "0  Логическая регрессия     0.327          0.769      -    None         None   \n",
       "1        Дерево решений     0.578          0.842      -    None         None   \n",
       "\n",
       "                                        Оптимальные параметры  Скорость, cек.  \n",
       "0                                                        None          0.0018  \n",
       "1  {'max_depth': 5, 'min_samples_leaf': 8, 'max_features': 7}          0.0029  "
      ]
     },
     "metadata": {},
     "output_type": "display_data"
    }
   ],
   "source": [
    "my_df = my_df.append(tree('Дерево решений', None, '-', x_train, y_train), ignore_index=True)\n",
    "display(my_df)"
   ]
  },
  {
   "cell_type": "markdown",
   "metadata": {},
   "source": [
    "В сравнении с Логической регрессией модель на основе алгоритма Дерево решений показывает значительно большее значение F1-меры. Также увеличилась площадь под ROC-кривой, что говорит об увеличении показателя доли истинно положительных ответов модели (TPR)."
   ]
  },
  {
   "cell_type": "markdown",
   "metadata": {},
   "source": [
    "#### Случайный лес"
   ]
  },
  {
   "cell_type": "markdown",
   "metadata": {},
   "source": [
    "Запустим обучение модели на основе алгоритма классификации \"Случайный лес\" с различными гиперпараметрами, проверим ее работу на валидационной выборке и выведем результаты проверки лучшей модели"
   ]
  },
  {
   "cell_type": "code",
   "execution_count": 26,
   "metadata": {},
   "outputs": [
    {
     "data": {
      "image/png": "[encoded data removed]",
      "text/plain": [
       "<Figure size 432x288 with 1 Axes>"
      ]
     },
     "metadata": {
      "needs_background": "light"
     },
     "output_type": "display_data"
    },
    {
     "data": {
      "text/html": [
       "<div>\n",
       "<style scoped>\n",
       "    .dataframe tbody tr th:only-of-type {\n",
       "        vertical-align: middle;\n",
       "    }\n",
       "\n",
       "    .dataframe tbody tr th {\n",
       "        vertical-align: top;\n",
       "    }\n",
       "\n",
       "    .dataframe thead th {\n",
       "        text-align: right;\n",
       "    }\n",
       "</style>\n",
       "<table border=\"1\" class=\"dataframe\">\n",
       "  <thead>\n",
       "    <tr style=\"text-align: right;\">\n",
       "      <th></th>\n",
       "      <th>Модель</th>\n",
       "      <th>F1_valid</th>\n",
       "      <th>AUC_ROC_valid</th>\n",
       "      <th>Баланс</th>\n",
       "      <th>F1_test</th>\n",
       "      <th>AUC_ROC_test</th>\n",
       "      <th>Оптимальные параметры</th>\n",
       "      <th>Скорость, cек.</th>\n",
       "    </tr>\n",
       "  </thead>\n",
       "  <tbody>\n",
       "    <tr>\n",
       "      <th>0</th>\n",
       "      <td>Логическая регрессия</td>\n",
       "      <td>0.327</td>\n",
       "      <td>0.769</td>\n",
       "      <td>-</td>\n",
       "      <td>None</td>\n",
       "      <td>None</td>\n",
       "      <td>None</td>\n",
       "      <td>0.0018</td>\n",
       "    </tr>\n",
       "    <tr>\n",
       "      <th>1</th>\n",
       "      <td>Дерево решений</td>\n",
       "      <td>0.578</td>\n",
       "      <td>0.842</td>\n",
       "      <td>-</td>\n",
       "      <td>None</td>\n",
       "      <td>None</td>\n",
       "      <td>{'max_depth': 5, 'min_samples_leaf': 8, 'max_features': 7}</td>\n",
       "      <td>0.0029</td>\n",
       "    </tr>\n",
       "    <tr>\n",
       "      <th>2</th>\n",
       "      <td>Случайный лес</td>\n",
       "      <td>0.548</td>\n",
       "      <td>0.870</td>\n",
       "      <td>-</td>\n",
       "      <td>None</td>\n",
       "      <td>None</td>\n",
       "      <td>{'max_depth': 8, 'n_estimators': 90}</td>\n",
       "      <td>0.0316</td>\n",
       "    </tr>\n",
       "  </tbody>\n",
       "</table>\n",
       "</div>"
      ],
      "text/plain": [
       "                 Модель  F1_valid  AUC_ROC_valid Баланс F1_test AUC_ROC_test  \\\n",
       "0  Логическая регрессия     0.327          0.769      -    None         None   \n",
       "1        Дерево решений     0.578          0.842      -    None         None   \n",
       "2         Случайный лес     0.548          0.870      -    None         None   \n",
       "\n",
       "                                        Оптимальные параметры  Скорость, cек.  \n",
       "0                                                        None          0.0018  \n",
       "1  {'max_depth': 5, 'min_samples_leaf': 8, 'max_features': 7}          0.0029  \n",
       "2                        {'max_depth': 8, 'n_estimators': 90}          0.0316  "
      ]
     },
     "metadata": {},
     "output_type": "display_data"
    }
   ],
   "source": [
    "my_df = my_df.append(forest('Случайный лес', None, '-', x_train, y_train), ignore_index=True)\n",
    "display(my_df)"
   ]
  },
  {
   "cell_type": "markdown",
   "metadata": {},
   "source": [
    "Модель на основе алгоритма классификации \"Случайный лес\" судя по значениям F1-меры и AUC-ROC не уступает качеству модели \"Дерево решений\", но стоит отметить что значение F1-меры у данной модели стало немногим ниже, в то время как AUC-ROC чуть выше чем у \"Дерева решений\". Кроме того существует сильное различие моделей в скорости предсказания, \"Дерево решений\" работает более чем в 10 раз быстрее."
   ]
  },
  {
   "cell_type": "markdown",
   "metadata": {},
   "source": [
    "## Борьба с дисбалансом"
   ]
  },
  {
   "cell_type": "markdown",
   "metadata": {},
   "source": [
    "Для борьбы с дисбалансом попробуем отдельно применить три различные техники: взвешивание классов, upsampling и downsampling. Посмотрим как меняются показатели F1-меры и AUC-ROC. "
   ]
  },
  {
   "cell_type": "markdown",
   "metadata": {},
   "source": [
    "### Взвешивание классов"
   ]
  },
  {
   "cell_type": "markdown",
   "metadata": {},
   "source": [
    "Обучим модели на основе трех различных алгоритмов классификации: Логическая регрессия, Дерево решений и Случайный лес. Для всех трех гиперпараметру class_weight передадим значение balanced."
   ]
  },
  {
   "cell_type": "code",
   "execution_count": 27,
   "metadata": {},
   "outputs": [
    {
     "data": {
      "image/png": "[encoded data removed]",
      "text/plain": [
       "<Figure size 432x288 with 1 Axes>"
      ]
     },
     "metadata": {
      "needs_background": "light"
     },
     "output_type": "display_data"
    }
   ],
   "source": [
    "my_df = my_df.append(log_reg('Логическая регрессия', 'balanced', 'Взвешивание', x_train, y_train), \\\n",
    "                     ignore_index=True)"
   ]
  },
  {
   "cell_type": "code",
   "execution_count": 28,
   "metadata": {},
   "outputs": [
    {
     "data": {
      "image/png": "[encoded data removed]",
      "text/plain": [
       "<Figure size 432x288 with 1 Axes>"
      ]
     },
     "metadata": {
      "needs_background": "light"
     },
     "output_type": "display_data"
    }
   ],
   "source": [
    "my_df = my_df.append(tree('Дерево решений', 'balanced', 'Взвешивание', x_train, y_train), \\\n",
    "                     ignore_index=True)"
   ]
  },
  {
   "cell_type": "code",
   "execution_count": 29,
   "metadata": {},
   "outputs": [
    {
     "data": {
      "image/png": "[encoded data removed]",
      "text/plain": [
       "<Figure size 432x288 with 1 Axes>"
      ]
     },
     "metadata": {
      "needs_background": "light"
     },
     "output_type": "display_data"
    },
    {
     "data": {
      "text/html": [
       "<div>\n",
       "<style scoped>\n",
       "    .dataframe tbody tr th:only-of-type {\n",
       "        vertical-align: middle;\n",
       "    }\n",
       "\n",
       "    .dataframe tbody tr th {\n",
       "        vertical-align: top;\n",
       "    }\n",
       "\n",
       "    .dataframe thead th {\n",
       "        text-align: right;\n",
       "    }\n",
       "</style>\n",
       "<table border=\"1\" class=\"dataframe\">\n",
       "  <thead>\n",
       "    <tr style=\"text-align: right;\">\n",
       "      <th></th>\n",
       "      <th>Модель</th>\n",
       "      <th>F1_valid</th>\n",
       "      <th>AUC_ROC_valid</th>\n",
       "      <th>Баланс</th>\n",
       "      <th>F1_test</th>\n",
       "      <th>AUC_ROC_test</th>\n",
       "      <th>Оптимальные параметры</th>\n",
       "      <th>Скорость, cек.</th>\n",
       "    </tr>\n",
       "  </thead>\n",
       "  <tbody>\n",
       "    <tr>\n",
       "      <th>0</th>\n",
       "      <td>Логическая регрессия</td>\n",
       "      <td>0.327</td>\n",
       "      <td>0.769</td>\n",
       "      <td>-</td>\n",
       "      <td>None</td>\n",
       "      <td>None</td>\n",
       "      <td>None</td>\n",
       "      <td>0.0018</td>\n",
       "    </tr>\n",
       "    <tr>\n",
       "      <th>1</th>\n",
       "      <td>Дерево решений</td>\n",
       "      <td>0.578</td>\n",
       "      <td>0.842</td>\n",
       "      <td>-</td>\n",
       "      <td>None</td>\n",
       "      <td>None</td>\n",
       "      <td>{'max_depth': 5, 'min_samples_leaf': 8, 'max_features': 7}</td>\n",
       "      <td>0.0029</td>\n",
       "    </tr>\n",
       "    <tr>\n",
       "      <th>2</th>\n",
       "      <td>Случайный лес</td>\n",
       "      <td>0.548</td>\n",
       "      <td>0.870</td>\n",
       "      <td>-</td>\n",
       "      <td>None</td>\n",
       "      <td>None</td>\n",
       "      <td>{'max_depth': 8, 'n_estimators': 90}</td>\n",
       "      <td>0.0316</td>\n",
       "    </tr>\n",
       "    <tr>\n",
       "      <th>3</th>\n",
       "      <td>Логическая регрессия</td>\n",
       "      <td>0.497</td>\n",
       "      <td>0.774</td>\n",
       "      <td>Взвешивание</td>\n",
       "      <td>None</td>\n",
       "      <td>None</td>\n",
       "      <td>None</td>\n",
       "      <td>0.0016</td>\n",
       "    </tr>\n",
       "    <tr>\n",
       "      <th>4</th>\n",
       "      <td>Дерево решений</td>\n",
       "      <td>0.606</td>\n",
       "      <td>0.852</td>\n",
       "      <td>Взвешивание</td>\n",
       "      <td>None</td>\n",
       "      <td>None</td>\n",
       "      <td>{'max_depth': 7, 'min_samples_leaf': 10, 'max_features': 5}</td>\n",
       "      <td>0.0031</td>\n",
       "    </tr>\n",
       "    <tr>\n",
       "      <th>5</th>\n",
       "      <td>Случайный лес</td>\n",
       "      <td>0.625</td>\n",
       "      <td>0.870</td>\n",
       "      <td>Взвешивание</td>\n",
       "      <td>None</td>\n",
       "      <td>None</td>\n",
       "      <td>{'max_depth': 7, 'n_estimators': 50}</td>\n",
       "      <td>0.0186</td>\n",
       "    </tr>\n",
       "  </tbody>\n",
       "</table>\n",
       "</div>"
      ],
      "text/plain": [
       "                 Модель  F1_valid  AUC_ROC_valid       Баланс F1_test  \\\n",
       "0  Логическая регрессия     0.327          0.769            -    None   \n",
       "1        Дерево решений     0.578          0.842            -    None   \n",
       "2         Случайный лес     0.548          0.870            -    None   \n",
       "3  Логическая регрессия     0.497          0.774  Взвешивание    None   \n",
       "4        Дерево решений     0.606          0.852  Взвешивание    None   \n",
       "5         Случайный лес     0.625          0.870  Взвешивание    None   \n",
       "\n",
       "  AUC_ROC_test                                        Оптимальные параметры  \\\n",
       "0         None                                                         None   \n",
       "1         None   {'max_depth': 5, 'min_samples_leaf': 8, 'max_features': 7}   \n",
       "2         None                         {'max_depth': 8, 'n_estimators': 90}   \n",
       "3         None                                                         None   \n",
       "4         None  {'max_depth': 7, 'min_samples_leaf': 10, 'max_features': 5}   \n",
       "5         None                         {'max_depth': 7, 'n_estimators': 50}   \n",
       "\n",
       "   Скорость, cек.  \n",
       "0          0.0018  \n",
       "1          0.0029  \n",
       "2          0.0316  \n",
       "3          0.0016  \n",
       "4          0.0031  \n",
       "5          0.0186  "
      ]
     },
     "metadata": {},
     "output_type": "display_data"
    }
   ],
   "source": [
    "my_df = my_df.append(forest('Случайный лес', 'balanced', 'Взвешивание', x_train, y_train), \\\n",
    "                     ignore_index=True)\n",
    "display(my_df)"
   ]
  },
  {
   "cell_type": "markdown",
   "metadata": {},
   "source": [
    "При применении техники взвешивания классов наблюдаются следующие изменения показателей метрик: \n",
    "- Показатель F1-меры для Логической регрессии увеличился более чем в 1.5 раза, но все же заметно отстает от качества двух других моделей. Для Дерева решений как и для Случайного леса  показатель заметно стал лучше.\n",
    "- Показатель AUC_ROC почти не изменился для всех трех моделей. Отдельно можно отметить Дерево решений, для этой модели качество по данному показателю увеличилось на 1.2%."
   ]
  },
  {
   "cell_type": "markdown",
   "metadata": {},
   "source": [
    "### Увеличение выборки"
   ]
  },
  {
   "cell_type": "markdown",
   "metadata": {},
   "source": [
    "#### Подготовка"
   ]
  },
  {
   "cell_type": "markdown",
   "metadata": {},
   "source": [
    "Разделим обучающую выборку на отрицательные и положительные объекты"
   ]
  },
  {
   "cell_type": "code",
   "execution_count": 30,
   "metadata": {},
   "outputs": [],
   "source": [
    "x_zeros = x_train[y_train == 0]\n",
    "x_ones = x_train[y_train == 1]\n",
    "y_zeros = y_train[y_train == 0]\n",
    "y_ones = y_train[y_train == 1]"
   ]
  },
  {
   "cell_type": "markdown",
   "metadata": {},
   "source": [
    "Скопируем несколько раз положительные объекты и с учётом полученных данных создадим новую обучающую выборку"
   ]
  },
  {
   "cell_type": "code",
   "execution_count": 31,
   "metadata": {},
   "outputs": [],
   "source": [
    "x_up = pd.concat([x_zeros] + [x_ones] * 4)\n",
    "y_up = pd.concat([y_zeros] + [y_ones] * 4)"
   ]
  },
  {
   "cell_type": "markdown",
   "metadata": {},
   "source": [
    "Перемешаем данные"
   ]
  },
  {
   "cell_type": "code",
   "execution_count": 32,
   "metadata": {},
   "outputs": [],
   "source": [
    "x_up, y_up = shuffle(x_up, y_up, random_state=ra_st)"
   ]
  },
  {
   "cell_type": "markdown",
   "metadata": {},
   "source": [
    "Проверим пропорции целевого признака"
   ]
  },
  {
   "cell_type": "code",
   "execution_count": 33,
   "metadata": {},
   "outputs": [
    {
     "data": {
      "image/png": "[encoded data removed]",
      "text/plain": [
       "<Figure size 432x288 with 1 Axes>"
      ]
     },
     "metadata": {},
     "output_type": "display_data"
    }
   ],
   "source": [
    "my_ratio(y_up.value_counts(), y_up.value_counts().index)"
   ]
  },
  {
   "cell_type": "markdown",
   "metadata": {},
   "source": [
    "Целевой признак сбалансирован"
   ]
  },
  {
   "cell_type": "markdown",
   "metadata": {},
   "source": [
    "#### Обучение моделей"
   ]
  },
  {
   "cell_type": "markdown",
   "metadata": {},
   "source": [
    "Обучим модели на основе трех различных алгоритмов классификации: Логическая регрессия, Дерево решений и Случайный лес. Ко всем моделям примем технику балансирования upsampling. Изучим результаты"
   ]
  },
  {
   "cell_type": "code",
   "execution_count": 34,
   "metadata": {},
   "outputs": [
    {
     "data": {
      "image/png": "[encoded data removed]",
      "text/plain": [
       "<Figure size 432x288 with 1 Axes>"
      ]
     },
     "metadata": {
      "needs_background": "light"
     },
     "output_type": "display_data"
    }
   ],
   "source": [
    "my_df = my_df.append(log_reg('Логическая регрессия', None, 'Upsampling', x_up, y_up), \\\n",
    "                     ignore_index=True)"
   ]
  },
  {
   "cell_type": "code",
   "execution_count": 35,
   "metadata": {},
   "outputs": [
    {
     "data": {
      "image/png": "[encoded data removed]",
      "text/plain": [
       "<Figure size 432x288 with 1 Axes>"
      ]
     },
     "metadata": {
      "needs_background": "light"
     },
     "output_type": "display_data"
    }
   ],
   "source": [
    "my_df = my_df.append(tree('Дерево решений', None, 'Upsampling', x_up, y_up), \\\n",
    "                     ignore_index=True)"
   ]
  },
  {
   "cell_type": "code",
   "execution_count": 36,
   "metadata": {},
   "outputs": [
    {
     "data": {
      "image/png": "[encoded data removed]",
      "text/plain": [
       "<Figure size 432x288 with 1 Axes>"
      ]
     },
     "metadata": {
      "needs_background": "light"
     },
     "output_type": "display_data"
    },
    {
     "data": {
      "text/html": [
       "<div>\n",
       "<style scoped>\n",
       "    .dataframe tbody tr th:only-of-type {\n",
       "        vertical-align: middle;\n",
       "    }\n",
       "\n",
       "    .dataframe tbody tr th {\n",
       "        vertical-align: top;\n",
       "    }\n",
       "\n",
       "    .dataframe thead th {\n",
       "        text-align: right;\n",
       "    }\n",
       "</style>\n",
       "<table border=\"1\" class=\"dataframe\">\n",
       "  <thead>\n",
       "    <tr style=\"text-align: right;\">\n",
       "      <th></th>\n",
       "      <th>Модель</th>\n",
       "      <th>F1_valid</th>\n",
       "      <th>AUC_ROC_valid</th>\n",
       "      <th>Баланс</th>\n",
       "      <th>F1_test</th>\n",
       "      <th>AUC_ROC_test</th>\n",
       "      <th>Оптимальные параметры</th>\n",
       "      <th>Скорость, cек.</th>\n",
       "    </tr>\n",
       "  </thead>\n",
       "  <tbody>\n",
       "    <tr>\n",
       "      <th>0</th>\n",
       "      <td>Логическая регрессия</td>\n",
       "      <td>0.327</td>\n",
       "      <td>0.769</td>\n",
       "      <td>-</td>\n",
       "      <td>None</td>\n",
       "      <td>None</td>\n",
       "      <td>None</td>\n",
       "      <td>0.0018</td>\n",
       "    </tr>\n",
       "    <tr>\n",
       "      <th>1</th>\n",
       "      <td>Дерево решений</td>\n",
       "      <td>0.578</td>\n",
       "      <td>0.842</td>\n",
       "      <td>-</td>\n",
       "      <td>None</td>\n",
       "      <td>None</td>\n",
       "      <td>{'max_depth': 5, 'min_samples_leaf': 8, 'max_features': 7}</td>\n",
       "      <td>0.0029</td>\n",
       "    </tr>\n",
       "    <tr>\n",
       "      <th>2</th>\n",
       "      <td>Случайный лес</td>\n",
       "      <td>0.548</td>\n",
       "      <td>0.870</td>\n",
       "      <td>-</td>\n",
       "      <td>None</td>\n",
       "      <td>None</td>\n",
       "      <td>{'max_depth': 8, 'n_estimators': 90}</td>\n",
       "      <td>0.0316</td>\n",
       "    </tr>\n",
       "    <tr>\n",
       "      <th>3</th>\n",
       "      <td>Логическая регрессия</td>\n",
       "      <td>0.497</td>\n",
       "      <td>0.774</td>\n",
       "      <td>Взвешивание</td>\n",
       "      <td>None</td>\n",
       "      <td>None</td>\n",
       "      <td>None</td>\n",
       "      <td>0.0016</td>\n",
       "    </tr>\n",
       "    <tr>\n",
       "      <th>4</th>\n",
       "      <td>Дерево решений</td>\n",
       "      <td>0.606</td>\n",
       "      <td>0.852</td>\n",
       "      <td>Взвешивание</td>\n",
       "      <td>None</td>\n",
       "      <td>None</td>\n",
       "      <td>{'max_depth': 7, 'min_samples_leaf': 10, 'max_features': 5}</td>\n",
       "      <td>0.0031</td>\n",
       "    </tr>\n",
       "    <tr>\n",
       "      <th>5</th>\n",
       "      <td>Случайный лес</td>\n",
       "      <td>0.625</td>\n",
       "      <td>0.870</td>\n",
       "      <td>Взвешивание</td>\n",
       "      <td>None</td>\n",
       "      <td>None</td>\n",
       "      <td>{'max_depth': 7, 'n_estimators': 50}</td>\n",
       "      <td>0.0186</td>\n",
       "    </tr>\n",
       "    <tr>\n",
       "      <th>6</th>\n",
       "      <td>Логическая регрессия</td>\n",
       "      <td>0.503</td>\n",
       "      <td>0.774</td>\n",
       "      <td>Upsampling</td>\n",
       "      <td>None</td>\n",
       "      <td>None</td>\n",
       "      <td>None</td>\n",
       "      <td>0.0018</td>\n",
       "    </tr>\n",
       "    <tr>\n",
       "      <th>7</th>\n",
       "      <td>Дерево решений</td>\n",
       "      <td>0.610</td>\n",
       "      <td>0.860</td>\n",
       "      <td>Upsampling</td>\n",
       "      <td>None</td>\n",
       "      <td>None</td>\n",
       "      <td>{'max_depth': 7, 'min_samples_leaf': 8, 'max_features': 7}</td>\n",
       "      <td>0.0065</td>\n",
       "    </tr>\n",
       "    <tr>\n",
       "      <th>8</th>\n",
       "      <td>Случайный лес</td>\n",
       "      <td>0.626</td>\n",
       "      <td>0.870</td>\n",
       "      <td>Upsampling</td>\n",
       "      <td>None</td>\n",
       "      <td>None</td>\n",
       "      <td>{'max_depth': 8, 'n_estimators': 80}</td>\n",
       "      <td>0.0288</td>\n",
       "    </tr>\n",
       "  </tbody>\n",
       "</table>\n",
       "</div>"
      ],
      "text/plain": [
       "                 Модель  F1_valid  AUC_ROC_valid       Баланс F1_test  \\\n",
       "0  Логическая регрессия     0.327          0.769            -    None   \n",
       "1        Дерево решений     0.578          0.842            -    None   \n",
       "2         Случайный лес     0.548          0.870            -    None   \n",
       "3  Логическая регрессия     0.497          0.774  Взвешивание    None   \n",
       "4        Дерево решений     0.606          0.852  Взвешивание    None   \n",
       "5         Случайный лес     0.625          0.870  Взвешивание    None   \n",
       "6  Логическая регрессия     0.503          0.774   Upsampling    None   \n",
       "7        Дерево решений     0.610          0.860   Upsampling    None   \n",
       "8         Случайный лес     0.626          0.870   Upsampling    None   \n",
       "\n",
       "  AUC_ROC_test                                        Оптимальные параметры  \\\n",
       "0         None                                                         None   \n",
       "1         None   {'max_depth': 5, 'min_samples_leaf': 8, 'max_features': 7}   \n",
       "2         None                         {'max_depth': 8, 'n_estimators': 90}   \n",
       "3         None                                                         None   \n",
       "4         None  {'max_depth': 7, 'min_samples_leaf': 10, 'max_features': 5}   \n",
       "5         None                         {'max_depth': 7, 'n_estimators': 50}   \n",
       "6         None                                                         None   \n",
       "7         None   {'max_depth': 7, 'min_samples_leaf': 8, 'max_features': 7}   \n",
       "8         None                         {'max_depth': 8, 'n_estimators': 80}   \n",
       "\n",
       "   Скорость, cек.  \n",
       "0          0.0018  \n",
       "1          0.0029  \n",
       "2          0.0316  \n",
       "3          0.0016  \n",
       "4          0.0031  \n",
       "5          0.0186  \n",
       "6          0.0018  \n",
       "7          0.0065  \n",
       "8          0.0288  "
      ]
     },
     "metadata": {},
     "output_type": "display_data"
    }
   ],
   "source": [
    "my_df = my_df.append(forest('Случайный лес', None, 'Upsampling', x_up, y_up), \\\n",
    "                     ignore_index=True)\n",
    "display(my_df)"
   ]
  },
  {
   "cell_type": "markdown",
   "metadata": {},
   "source": [
    "Все 3 модели по разному отреагировали на применение техники балансирования по увеличению выборки в сравнении с техникой взвешивания:\n",
    "- Показатель F1-меры у Логической регрессии увеличился почти на 0.6%, а AUC_ROC совсем не изменился\n",
    "- Показатель F1-меры у Дерева решений почти не изменился, также как и AUC_ROC\n",
    "- Показатели F1-меры и AUC_ROC также не изменились"
   ]
  },
  {
   "cell_type": "markdown",
   "metadata": {},
   "source": [
    "### Уменьшение выборки"
   ]
  },
  {
   "cell_type": "markdown",
   "metadata": {},
   "source": [
    "#### Подготовка"
   ]
  },
  {
   "cell_type": "markdown",
   "metadata": {},
   "source": [
    "Случайным образом отбросим часть из отрицательных объектов и с учётом полученных данных создадим новую обучающую выборку"
   ]
  },
  {
   "cell_type": "code",
   "execution_count": 37,
   "metadata": {},
   "outputs": [],
   "source": [
    "x_down = pd.concat([x_zeros.sample(frac=.256, random_state=ra_st)] + [x_ones])\n",
    "y_down = pd.concat([y_zeros.sample(frac=.256, random_state=ra_st)] + [y_ones])"
   ]
  },
  {
   "cell_type": "markdown",
   "metadata": {},
   "source": [
    "Перемешаем данные"
   ]
  },
  {
   "cell_type": "code",
   "execution_count": 38,
   "metadata": {},
   "outputs": [],
   "source": [
    "x_down, y_down = shuffle(x_down, y_down, random_state=ra_st)"
   ]
  },
  {
   "cell_type": "markdown",
   "metadata": {},
   "source": [
    "Проверим пропорции"
   ]
  },
  {
   "cell_type": "code",
   "execution_count": 39,
   "metadata": {},
   "outputs": [
    {
     "data": {
      "image/png": "[encoded data removed]",
      "text/plain": [
       "<Figure size 432x288 with 1 Axes>"
      ]
     },
     "metadata": {},
     "output_type": "display_data"
    }
   ],
   "source": [
    "my_ratio(y_down.value_counts(), y_down.value_counts().index)"
   ]
  },
  {
   "cell_type": "markdown",
   "metadata": {},
   "source": [
    "Целевой признак сбалансирован"
   ]
  },
  {
   "cell_type": "markdown",
   "metadata": {},
   "source": [
    "#### Обучение моделей"
   ]
  },
  {
   "cell_type": "markdown",
   "metadata": {},
   "source": [
    "Обучим модели на основе трех различных алгоритмов классификации: Логическая регрессия, Дерево решений и Случайный лес. Ко всем моделям примем технику балансирования downsampling. Изучим результаты"
   ]
  },
  {
   "cell_type": "code",
   "execution_count": 40,
   "metadata": {},
   "outputs": [
    {
     "data": {
      "image/png": "[encoded data removed]",
      "text/plain": [
       "<Figure size 432x288 with 1 Axes>"
      ]
     },
     "metadata": {
      "needs_background": "light"
     },
     "output_type": "display_data"
    }
   ],
   "source": [
    "my_df = my_df.append(log_reg('Логическая регрессия', None, 'Downsampling', x_down, y_down), \\\n",
    "                     ignore_index=True)"
   ]
  },
  {
   "cell_type": "code",
   "execution_count": 41,
   "metadata": {},
   "outputs": [
    {
     "data": {
      "image/png": "[encoded data removed]",
      "text/plain": [
       "<Figure size 432x288 with 1 Axes>"
      ]
     },
     "metadata": {
      "needs_background": "light"
     },
     "output_type": "display_data"
    }
   ],
   "source": [
    "my_df = my_df.append(tree('Дерево решений', None, 'Downsampling', x_down, y_down), \\\n",
    "                     ignore_index=True)"
   ]
  },
  {
   "cell_type": "code",
   "execution_count": 42,
   "metadata": {},
   "outputs": [
    {
     "data": {
      "image/png": "[encoded data removed]",
      "text/plain": [
       "<Figure size 432x288 with 1 Axes>"
      ]
     },
     "metadata": {
      "needs_background": "light"
     },
     "output_type": "display_data"
    },
    {
     "data": {
      "text/html": [
       "<div>\n",
       "<style scoped>\n",
       "    .dataframe tbody tr th:only-of-type {\n",
       "        vertical-align: middle;\n",
       "    }\n",
       "\n",
       "    .dataframe tbody tr th {\n",
       "        vertical-align: top;\n",
       "    }\n",
       "\n",
       "    .dataframe thead th {\n",
       "        text-align: right;\n",
       "    }\n",
       "</style>\n",
       "<table border=\"1\" class=\"dataframe\">\n",
       "  <thead>\n",
       "    <tr style=\"text-align: right;\">\n",
       "      <th></th>\n",
       "      <th>Модель</th>\n",
       "      <th>F1_valid</th>\n",
       "      <th>AUC_ROC_valid</th>\n",
       "      <th>Баланс</th>\n",
       "      <th>F1_test</th>\n",
       "      <th>AUC_ROC_test</th>\n",
       "      <th>Оптимальные параметры</th>\n",
       "      <th>Скорость, cек.</th>\n",
       "    </tr>\n",
       "  </thead>\n",
       "  <tbody>\n",
       "    <tr>\n",
       "      <th>0</th>\n",
       "      <td>Дерево решений</td>\n",
       "      <td>0.578</td>\n",
       "      <td>0.842</td>\n",
       "      <td>-</td>\n",
       "      <td>None</td>\n",
       "      <td>None</td>\n",
       "      <td>{'max_depth': 5, 'min_samples_leaf': 8, 'max_features': 7}</td>\n",
       "      <td>0.0029</td>\n",
       "    </tr>\n",
       "    <tr>\n",
       "      <th>1</th>\n",
       "      <td>Дерево решений</td>\n",
       "      <td>0.606</td>\n",
       "      <td>0.852</td>\n",
       "      <td>Взвешивание</td>\n",
       "      <td>None</td>\n",
       "      <td>None</td>\n",
       "      <td>{'max_depth': 7, 'min_samples_leaf': 10, 'max_features': 5}</td>\n",
       "      <td>0.0031</td>\n",
       "    </tr>\n",
       "    <tr>\n",
       "      <th>2</th>\n",
       "      <td>Дерево решений</td>\n",
       "      <td>0.610</td>\n",
       "      <td>0.860</td>\n",
       "      <td>Upsampling</td>\n",
       "      <td>None</td>\n",
       "      <td>None</td>\n",
       "      <td>{'max_depth': 7, 'min_samples_leaf': 8, 'max_features': 7}</td>\n",
       "      <td>0.0065</td>\n",
       "    </tr>\n",
       "    <tr>\n",
       "      <th>3</th>\n",
       "      <td>Дерево решений</td>\n",
       "      <td>0.604</td>\n",
       "      <td>0.835</td>\n",
       "      <td>Downsampling</td>\n",
       "      <td>None</td>\n",
       "      <td>None</td>\n",
       "      <td>{'max_depth': 5, 'min_samples_leaf': 10, 'max_features': 9}</td>\n",
       "      <td>0.0029</td>\n",
       "    </tr>\n",
       "    <tr>\n",
       "      <th>4</th>\n",
       "      <td>Логическая регрессия</td>\n",
       "      <td>0.327</td>\n",
       "      <td>0.769</td>\n",
       "      <td>-</td>\n",
       "      <td>None</td>\n",
       "      <td>None</td>\n",
       "      <td>None</td>\n",
       "      <td>0.0018</td>\n",
       "    </tr>\n",
       "    <tr>\n",
       "      <th>5</th>\n",
       "      <td>Логическая регрессия</td>\n",
       "      <td>0.497</td>\n",
       "      <td>0.774</td>\n",
       "      <td>Взвешивание</td>\n",
       "      <td>None</td>\n",
       "      <td>None</td>\n",
       "      <td>None</td>\n",
       "      <td>0.0016</td>\n",
       "    </tr>\n",
       "    <tr>\n",
       "      <th>6</th>\n",
       "      <td>Логическая регрессия</td>\n",
       "      <td>0.503</td>\n",
       "      <td>0.774</td>\n",
       "      <td>Upsampling</td>\n",
       "      <td>None</td>\n",
       "      <td>None</td>\n",
       "      <td>None</td>\n",
       "      <td>0.0018</td>\n",
       "    </tr>\n",
       "    <tr>\n",
       "      <th>7</th>\n",
       "      <td>Логическая регрессия</td>\n",
       "      <td>0.497</td>\n",
       "      <td>0.776</td>\n",
       "      <td>Downsampling</td>\n",
       "      <td>None</td>\n",
       "      <td>None</td>\n",
       "      <td>None</td>\n",
       "      <td>0.0017</td>\n",
       "    </tr>\n",
       "    <tr>\n",
       "      <th>8</th>\n",
       "      <td>Случайный лес</td>\n",
       "      <td>0.548</td>\n",
       "      <td>0.870</td>\n",
       "      <td>-</td>\n",
       "      <td>None</td>\n",
       "      <td>None</td>\n",
       "      <td>{'max_depth': 8, 'n_estimators': 90}</td>\n",
       "      <td>0.0316</td>\n",
       "    </tr>\n",
       "    <tr>\n",
       "      <th>9</th>\n",
       "      <td>Случайный лес</td>\n",
       "      <td>0.625</td>\n",
       "      <td>0.870</td>\n",
       "      <td>Взвешивание</td>\n",
       "      <td>None</td>\n",
       "      <td>None</td>\n",
       "      <td>{'max_depth': 7, 'n_estimators': 50}</td>\n",
       "      <td>0.0186</td>\n",
       "    </tr>\n",
       "    <tr>\n",
       "      <th>10</th>\n",
       "      <td>Случайный лес</td>\n",
       "      <td>0.626</td>\n",
       "      <td>0.870</td>\n",
       "      <td>Upsampling</td>\n",
       "      <td>None</td>\n",
       "      <td>None</td>\n",
       "      <td>{'max_depth': 8, 'n_estimators': 80}</td>\n",
       "      <td>0.0288</td>\n",
       "    </tr>\n",
       "    <tr>\n",
       "      <th>11</th>\n",
       "      <td>Случайный лес</td>\n",
       "      <td>0.616</td>\n",
       "      <td>0.865</td>\n",
       "      <td>Downsampling</td>\n",
       "      <td>None</td>\n",
       "      <td>None</td>\n",
       "      <td>{'max_depth': 6, 'n_estimators': 40}</td>\n",
       "      <td>0.0140</td>\n",
       "    </tr>\n",
       "  </tbody>\n",
       "</table>\n",
       "</div>"
      ],
      "text/plain": [
       "                  Модель  F1_valid  AUC_ROC_valid        Баланс F1_test  \\\n",
       "0         Дерево решений     0.578          0.842             -    None   \n",
       "1         Дерево решений     0.606          0.852   Взвешивание    None   \n",
       "2         Дерево решений     0.610          0.860    Upsampling    None   \n",
       "3         Дерево решений     0.604          0.835  Downsampling    None   \n",
       "4   Логическая регрессия     0.327          0.769             -    None   \n",
       "5   Логическая регрессия     0.497          0.774   Взвешивание    None   \n",
       "6   Логическая регрессия     0.503          0.774    Upsampling    None   \n",
       "7   Логическая регрессия     0.497          0.776  Downsampling    None   \n",
       "8          Случайный лес     0.548          0.870             -    None   \n",
       "9          Случайный лес     0.625          0.870   Взвешивание    None   \n",
       "10         Случайный лес     0.626          0.870    Upsampling    None   \n",
       "11         Случайный лес     0.616          0.865  Downsampling    None   \n",
       "\n",
       "   AUC_ROC_test                                        Оптимальные параметры  \\\n",
       "0          None   {'max_depth': 5, 'min_samples_leaf': 8, 'max_features': 7}   \n",
       "1          None  {'max_depth': 7, 'min_samples_leaf': 10, 'max_features': 5}   \n",
       "2          None   {'max_depth': 7, 'min_samples_leaf': 8, 'max_features': 7}   \n",
       "3          None  {'max_depth': 5, 'min_samples_leaf': 10, 'max_features': 9}   \n",
       "4          None                                                         None   \n",
       "5          None                                                         None   \n",
       "6          None                                                         None   \n",
       "7          None                                                         None   \n",
       "8          None                         {'max_depth': 8, 'n_estimators': 90}   \n",
       "9          None                         {'max_depth': 7, 'n_estimators': 50}   \n",
       "10         None                         {'max_depth': 8, 'n_estimators': 80}   \n",
       "11         None                         {'max_depth': 6, 'n_estimators': 40}   \n",
       "\n",
       "    Скорость, cек.  \n",
       "0           0.0029  \n",
       "1           0.0031  \n",
       "2           0.0065  \n",
       "3           0.0029  \n",
       "4           0.0018  \n",
       "5           0.0016  \n",
       "6           0.0018  \n",
       "7           0.0017  \n",
       "8           0.0316  \n",
       "9           0.0186  \n",
       "10          0.0288  \n",
       "11          0.0140  "
      ]
     },
     "metadata": {},
     "output_type": "display_data"
    }
   ],
   "source": [
    "my_df = my_df.append(forest('Случайный лес', None, 'Downsampling', x_down, y_down), \\\n",
    "                     ignore_index=True)\n",
    "my_df = my_df.sort_values('Модель').reset_index(drop=True)\n",
    "display(my_df)"
   ]
  },
  {
   "cell_type": "markdown",
   "metadata": {},
   "source": [
    "В целом можно отметить что при применении техники уменьшения выборки показатель F1-меры и AUC_ROC для всех трех моделей ухудшился по сравнению с техникой увеличения выборки."
   ]
  },
  {
   "cell_type": "markdown",
   "metadata": {},
   "source": [
    "### Вывод"
   ]
  },
  {
   "cell_type": "markdown",
   "metadata": {},
   "source": [
    "Для моделей Случайный лес и Дерево решений лучшей техникой балансировки целевого признака можно обозначить технологию взвешивания, а для модели Логическая регрессия - увеличения выборки. В целом лучшей моделью по показателям F1-меры и AUC_ROC можно считать модель на основе алгоритма классификации Случайный лес при использовании техники взвешивания для балансировки по целевому признаку и следующими гиперпараметрами: количество деревьев - 90, максимальная глубина дерева - 7."
   ]
  },
  {
   "cell_type": "markdown",
   "metadata": {},
   "source": [
    "## Тестирование модели"
   ]
  },
  {
   "cell_type": "markdown",
   "metadata": {},
   "source": [
    "Проведем тестирование трех моделей с использованием оптимальных параметров и наилучших техник балансировки"
   ]
  },
  {
   "cell_type": "code",
   "execution_count": 43,
   "metadata": {},
   "outputs": [
    {
     "data": {
      "text/html": [
       "<div>\n",
       "<style scoped>\n",
       "    .dataframe tbody tr th:only-of-type {\n",
       "        vertical-align: middle;\n",
       "    }\n",
       "\n",
       "    .dataframe tbody tr th {\n",
       "        vertical-align: top;\n",
       "    }\n",
       "\n",
       "    .dataframe thead th {\n",
       "        text-align: right;\n",
       "    }\n",
       "</style>\n",
       "<table border=\"1\" class=\"dataframe\">\n",
       "  <thead>\n",
       "    <tr style=\"text-align: right;\">\n",
       "      <th></th>\n",
       "      <th>Модель</th>\n",
       "      <th>F1_valid</th>\n",
       "      <th>AUC_ROC_valid</th>\n",
       "      <th>Баланс</th>\n",
       "      <th>F1_test</th>\n",
       "      <th>AUC_ROC_test</th>\n",
       "      <th>Оптимальные параметры</th>\n",
       "      <th>Скорость, cек.</th>\n",
       "    </tr>\n",
       "  </thead>\n",
       "  <tbody>\n",
       "    <tr>\n",
       "      <th>0</th>\n",
       "      <td>Дерево решений</td>\n",
       "      <td>0.578</td>\n",
       "      <td>0.842</td>\n",
       "      <td>-</td>\n",
       "      <td>None</td>\n",
       "      <td>None</td>\n",
       "      <td>{'max_depth': 5, 'min_samples_leaf': 8, 'max_features': 7}</td>\n",
       "      <td>0.0029</td>\n",
       "    </tr>\n",
       "    <tr>\n",
       "      <th>1</th>\n",
       "      <td>Дерево решений</td>\n",
       "      <td>0.606</td>\n",
       "      <td>0.852</td>\n",
       "      <td>Взвешивание</td>\n",
       "      <td>0.565</td>\n",
       "      <td>0.807</td>\n",
       "      <td>{'max_depth': 7, 'min_samples_leaf': 10, 'max_features': 5}</td>\n",
       "      <td>0.0031</td>\n",
       "    </tr>\n",
       "    <tr>\n",
       "      <th>2</th>\n",
       "      <td>Дерево решений</td>\n",
       "      <td>0.610</td>\n",
       "      <td>0.860</td>\n",
       "      <td>Upsampling</td>\n",
       "      <td>None</td>\n",
       "      <td>None</td>\n",
       "      <td>{'max_depth': 7, 'min_samples_leaf': 8, 'max_features': 7}</td>\n",
       "      <td>0.0065</td>\n",
       "    </tr>\n",
       "    <tr>\n",
       "      <th>3</th>\n",
       "      <td>Дерево решений</td>\n",
       "      <td>0.604</td>\n",
       "      <td>0.835</td>\n",
       "      <td>Downsampling</td>\n",
       "      <td>None</td>\n",
       "      <td>None</td>\n",
       "      <td>{'max_depth': 5, 'min_samples_leaf': 10, 'max_features': 9}</td>\n",
       "      <td>0.0029</td>\n",
       "    </tr>\n",
       "    <tr>\n",
       "      <th>4</th>\n",
       "      <td>Логическая регрессия</td>\n",
       "      <td>0.327</td>\n",
       "      <td>0.769</td>\n",
       "      <td>-</td>\n",
       "      <td>None</td>\n",
       "      <td>None</td>\n",
       "      <td>None</td>\n",
       "      <td>0.0018</td>\n",
       "    </tr>\n",
       "    <tr>\n",
       "      <th>5</th>\n",
       "      <td>Логическая регрессия</td>\n",
       "      <td>0.497</td>\n",
       "      <td>0.774</td>\n",
       "      <td>Взвешивание</td>\n",
       "      <td>None</td>\n",
       "      <td>None</td>\n",
       "      <td>None</td>\n",
       "      <td>0.0016</td>\n",
       "    </tr>\n",
       "    <tr>\n",
       "      <th>6</th>\n",
       "      <td>Логическая регрессия</td>\n",
       "      <td>0.503</td>\n",
       "      <td>0.774</td>\n",
       "      <td>Upsampling</td>\n",
       "      <td>0.509</td>\n",
       "      <td>0.775</td>\n",
       "      <td>None</td>\n",
       "      <td>0.0018</td>\n",
       "    </tr>\n",
       "    <tr>\n",
       "      <th>7</th>\n",
       "      <td>Логическая регрессия</td>\n",
       "      <td>0.497</td>\n",
       "      <td>0.776</td>\n",
       "      <td>Downsampling</td>\n",
       "      <td>None</td>\n",
       "      <td>None</td>\n",
       "      <td>None</td>\n",
       "      <td>0.0017</td>\n",
       "    </tr>\n",
       "    <tr>\n",
       "      <th>8</th>\n",
       "      <td>Случайный лес</td>\n",
       "      <td>0.548</td>\n",
       "      <td>0.870</td>\n",
       "      <td>-</td>\n",
       "      <td>None</td>\n",
       "      <td>None</td>\n",
       "      <td>{'max_depth': 8, 'n_estimators': 90}</td>\n",
       "      <td>0.0316</td>\n",
       "    </tr>\n",
       "    <tr>\n",
       "      <th>9</th>\n",
       "      <td>Случайный лес</td>\n",
       "      <td>0.625</td>\n",
       "      <td>0.870</td>\n",
       "      <td>Взвешивание</td>\n",
       "      <td>0.622</td>\n",
       "      <td>0.849</td>\n",
       "      <td>{'max_depth': 7, 'n_estimators': 50}</td>\n",
       "      <td>0.0186</td>\n",
       "    </tr>\n",
       "    <tr>\n",
       "      <th>10</th>\n",
       "      <td>Случайный лес</td>\n",
       "      <td>0.626</td>\n",
       "      <td>0.870</td>\n",
       "      <td>Upsampling</td>\n",
       "      <td>None</td>\n",
       "      <td>None</td>\n",
       "      <td>{'max_depth': 8, 'n_estimators': 80}</td>\n",
       "      <td>0.0288</td>\n",
       "    </tr>\n",
       "    <tr>\n",
       "      <th>11</th>\n",
       "      <td>Случайный лес</td>\n",
       "      <td>0.616</td>\n",
       "      <td>0.865</td>\n",
       "      <td>Downsampling</td>\n",
       "      <td>None</td>\n",
       "      <td>None</td>\n",
       "      <td>{'max_depth': 6, 'n_estimators': 40}</td>\n",
       "      <td>0.0140</td>\n",
       "    </tr>\n",
       "  </tbody>\n",
       "</table>\n",
       "</div>"
      ],
      "text/plain": [
       "                  Модель  F1_valid  AUC_ROC_valid        Баланс F1_test  \\\n",
       "0         Дерево решений     0.578          0.842             -    None   \n",
       "1         Дерево решений     0.606          0.852   Взвешивание   0.565   \n",
       "2         Дерево решений     0.610          0.860    Upsampling    None   \n",
       "3         Дерево решений     0.604          0.835  Downsampling    None   \n",
       "4   Логическая регрессия     0.327          0.769             -    None   \n",
       "5   Логическая регрессия     0.497          0.774   Взвешивание    None   \n",
       "6   Логическая регрессия     0.503          0.774    Upsampling   0.509   \n",
       "7   Логическая регрессия     0.497          0.776  Downsampling    None   \n",
       "8          Случайный лес     0.548          0.870             -    None   \n",
       "9          Случайный лес     0.625          0.870   Взвешивание   0.622   \n",
       "10         Случайный лес     0.626          0.870    Upsampling    None   \n",
       "11         Случайный лес     0.616          0.865  Downsampling    None   \n",
       "\n",
       "   AUC_ROC_test                                        Оптимальные параметры  \\\n",
       "0          None   {'max_depth': 5, 'min_samples_leaf': 8, 'max_features': 7}   \n",
       "1         0.807  {'max_depth': 7, 'min_samples_leaf': 10, 'max_features': 5}   \n",
       "2          None   {'max_depth': 7, 'min_samples_leaf': 8, 'max_features': 7}   \n",
       "3          None  {'max_depth': 5, 'min_samples_leaf': 10, 'max_features': 9}   \n",
       "4          None                                                         None   \n",
       "5          None                                                         None   \n",
       "6         0.775                                                         None   \n",
       "7          None                                                         None   \n",
       "8          None                         {'max_depth': 8, 'n_estimators': 90}   \n",
       "9         0.849                         {'max_depth': 7, 'n_estimators': 50}   \n",
       "10         None                         {'max_depth': 8, 'n_estimators': 80}   \n",
       "11         None                         {'max_depth': 6, 'n_estimators': 40}   \n",
       "\n",
       "    Скорость, cек.  \n",
       "0           0.0029  \n",
       "1           0.0031  \n",
       "2           0.0065  \n",
       "3           0.0029  \n",
       "4           0.0018  \n",
       "5           0.0016  \n",
       "6           0.0018  \n",
       "7           0.0017  \n",
       "8           0.0316  \n",
       "9           0.0186  \n",
       "10          0.0288  \n",
       "11          0.0140  "
      ]
     },
     "metadata": {},
     "output_type": "display_data"
    }
   ],
   "source": [
    "my_test(LogisticRegression(random_state=ra_st, solver='liblinear'), x_up, y_up, 6)\n",
    "\n",
    "my_test(DecisionTreeClassifier(random_state=ra_st, class_weight='balanced',\\\n",
    "                               max_depth=7, min_samples_leaf=10, max_features=5),\\\n",
    "        x_train, y_train, 1)\n",
    "\n",
    "my_test(RandomForestClassifier(random_state=ra_st, class_weight='balanced',\\\n",
    "                               max_depth=7, n_estimators=90),\\\n",
    "       x_train, y_train, 9)\n",
    "\n",
    "display(my_df)"
   ]
  },
  {
   "cell_type": "markdown",
   "metadata": {},
   "source": [
    "Модель Дерево решений неплохо показала себя на валидационной выборке, но на тестовой F1-мера очень сильно упала как и показатель AUC_ROC. Видимо модель переобучена. Модель Логическая регрессия показала себя как на валидационной так и на тестовой выборке одинаково плохо. Модель Случайный лес осталась лучшей моделью по обоим показателям, но стоит отметить небольшое ухудшение качества при проверке на тестовой выборке."
   ]
  },
  {
   "cell_type": "markdown",
   "metadata": {},
   "source": [
    "## Вывод"
   ]
  },
  {
   "cell_type": "markdown",
   "metadata": {},
   "source": [
    "В процессе подготовки проекта мы изучили общую информацию по имеющимся у нас данным, изменили тип данных в некоторых столбцах для экономии памяти, а так же проверили отсутствие аномальных значений в признаках. Кроме того мы проверили корреляцию между признаками и выявили ее значимое отсутствие. В данных присутствовали 3 признака, которые были бесполезны для дальнейшего обучения модели, от них мы избавились. Также в одном из признаков оказалось 10% пропущенных значений. Мы провели исследование и выяснили, что модель лучше предсказывает если совсем не использовать признак с пропусками в обучении, чем при заполнении пропусков нулями или медианой. Кроме того в предобработке данных мы преобразовали категориальные признаки в количественные при помощи техники прямого кодирования.\n",
    "\n",
    "Далее мы разделили выборку на обучающую, валидационную и тестовую в соотношении 3:1:1. После этого мы произвели масштабирование признаков с использованием структуры StandardScaler.\n",
    "\n",
    "Проведя исследование балансов классов мы обнаружили присутствие сильного дисбаланса. Классы целевого признака оказались в пропорции 1:4. Мы обучили модели на основе трех алгоритмов классификации без учета дисбаланса: Логическая регрессия, Дерево решений и Случайный лес. Подобрав оптимальные гиперпараметры мы выяснили что наилучший показатель метрики F1-меры принадлежит модели Дерево решений - 0.578, однако лучший показатель метрики AUC_ROC был у модели Случайный лес - 0.87. \n",
    "\n",
    "Для борьбы с дисбалансом мы применили три различные техники: взвешивание классов, upsampling и downsampling. Изучив результаты предсказаний моделей на валидационной выборке мы выяснили, что лучшей моделью по показателям F1-меры (0.625) и AUC_ROC (0.87) можно считать модель на основе алгоритма классификации Случайный лес при использовании техники взвешивания для балансировки по целевому признаку и следующими гиперпараметрами: количество деревьев - 50, максимальная глубина дерева - 7. Проверка модели на тестовой выборке подтвердила, что модель Случайный лес является лучшим выбором для прогнозирования ухода клиента из банка. F1-мера на тестовой выборке достигла 0.622, а AUC_ROC - 0.849."
   ]
  }
 ],
 "metadata": {
  "kernelspec": {
   "display_name": "Python 3",
   "language": "python",
   "name": "python3"
  },
  "language_info": {
   "codemirror_mode": {
    "name": "ipython",
    "version": 3
   },
   "file_extension": ".py",
   "mimetype": "text/x-python",
   "name": "python",
   "nbconvert_exporter": "python",
   "pygments_lexer": "ipython3",
   "version": "3.8.5"
  },
  "toc": {
   "base_numbering": 1,
   "nav_menu": {},
   "number_sections": true,
   "sideBar": true,
   "skip_h1_title": true,
   "title_cell": "Содержание",
   "title_sidebar": "Contents",
   "toc_cell": true,
   "toc_position": {},
   "toc_section_display": true,
   "toc_window_display": false
  }
 },
 "nbformat": 4,
 "nbformat_minor": 2
}
